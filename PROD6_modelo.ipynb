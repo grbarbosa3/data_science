{
  "nbformat": 4,
  "nbformat_minor": 0,
  "metadata": {
    "colab": {
      "name": "PROD6_modelo.ipynb",
      "provenance": [],
      "authorship_tag": "ABX9TyNn4tJimVGMyPtfRGGV8DDy",
      "include_colab_link": true
    },
    "kernelspec": {
      "name": "python3",
      "display_name": "Python 3"
    },
    "language_info": {
      "name": "python"
    }
  },
  "cells": [
    {
      "cell_type": "markdown",
      "metadata": {
        "id": "view-in-github",
        "colab_type": "text"
      },
      "source": [
        "<a href=\"https://colab.research.google.com/github/grbarbosa3/data_science/blob/master/PROD6_modelo.ipynb\" target=\"_parent\"><img src=\"https://colab.research.google.com/assets/colab-badge.svg\" alt=\"Open In Colab\"/></a>"
      ]
    },
    {
      "cell_type": "code",
      "metadata": {
        "id": "bkTTg8ZY7u_V"
      },
      "source": [
        "import pandas as pd \n",
        "import matplotlib.pyplot as plt\n",
        "from sklearn.tree import DecisionTreeClassifier, export_graphviz\n",
        "from sklearn.model_selection import train_test_split\n",
        "from sklearn import metrics\n",
        "import numpy as np\n",
        "import seaborn as sns\n"
      ],
      "execution_count": null,
      "outputs": []
    },
    {
      "cell_type": "code",
      "metadata": {
        "id": "ab15jKba8uYP",
        "colab": {
          "base_uri": "https://localhost:8080/"
        },
        "outputId": "3297ad7e-9c65-4750-94c3-da889b09290c"
      },
      "source": [
        "df_c = pd.read_csv(\"/content/dCliente.csv\")\n",
        "df_t = pd.read_csv(\"/content/transac.csv\",sep=';',error_bad_lines=False, names=('COD_ASSOCIADO', 'EMPRESA', 'ESTABELECIMENTO', 'DATA_MOVIMENTO', 'HORA', 'VALOR', 'AUTORIZACAO', 'COD_ESTABELECIMENTO', 'LANCAMENTO', 'IDENTIFICACAO','PARCELAS'))"
      ],
      "execution_count": null,
      "outputs": [
        {
          "output_type": "stream",
          "text": [
            "/usr/local/lib/python3.7/dist-packages/IPython/core/interactiveshell.py:2718: DtypeWarning: Columns (2,9) have mixed types.Specify dtype option on import or set low_memory=False.\n",
            "  interactivity=interactivity, compiler=compiler, result=result)\n"
          ],
          "name": "stderr"
        }
      ]
    },
    {
      "cell_type": "markdown",
      "metadata": {
        "id": "O1sS-U1mHJiV"
      },
      "source": [
        "##Tabela de Transações"
      ]
    },
    {
      "cell_type": "code",
      "metadata": {
        "colab": {
          "base_uri": "https://localhost:8080/",
          "height": 293
        },
        "id": "gIkIri9RoT0o",
        "outputId": "fd5261d2-52a9-4263-f4ea-71b748813ece"
      },
      "source": [
        "df_t.head()"
      ],
      "execution_count": null,
      "outputs": [
        {
          "output_type": "execute_result",
          "data": {
            "text/html": [
              "<div>\n",
              "<style scoped>\n",
              "    .dataframe tbody tr th:only-of-type {\n",
              "        vertical-align: middle;\n",
              "    }\n",
              "\n",
              "    .dataframe tbody tr th {\n",
              "        vertical-align: top;\n",
              "    }\n",
              "\n",
              "    .dataframe thead th {\n",
              "        text-align: right;\n",
              "    }\n",
              "</style>\n",
              "<table border=\"1\" class=\"dataframe\">\n",
              "  <thead>\n",
              "    <tr style=\"text-align: right;\">\n",
              "      <th></th>\n",
              "      <th>COD_ASSOCIADO</th>\n",
              "      <th>EMPRESA</th>\n",
              "      <th>ESTABELECIMENTO</th>\n",
              "      <th>DATA_MOVIMENTO</th>\n",
              "      <th>HORA</th>\n",
              "      <th>VALOR</th>\n",
              "      <th>AUTORIZACAO</th>\n",
              "      <th>COD_ESTABELECIMENTO</th>\n",
              "      <th>LANCAMENTO</th>\n",
              "      <th>IDENTIFICACAO</th>\n",
              "      <th>PARCELAS</th>\n",
              "    </tr>\n",
              "  </thead>\n",
              "  <tbody>\n",
              "    <tr>\n",
              "      <th>0</th>\n",
              "      <td>4230899</td>\n",
              "      <td>DMCARD MASTERCARD</td>\n",
              "      <td>DMCARD MASTERCARD VITORIA</td>\n",
              "      <td>2021-03-10 00:00:00.000</td>\n",
              "      <td>15:29</td>\n",
              "      <td>188.00</td>\n",
              "      <td>55691728</td>\n",
              "      <td>10385.0</td>\n",
              "      <td>COMPRA NO PARCELADO</td>\n",
              "      <td>PAG*RaildaAbrantes</td>\n",
              "      <td>5</td>\n",
              "    </tr>\n",
              "    <tr>\n",
              "      <th>1</th>\n",
              "      <td>4230899</td>\n",
              "      <td>DMCARD MASTERCARD</td>\n",
              "      <td>DMCARD MASTERCARD VITORIA</td>\n",
              "      <td>2021-03-10 00:00:00.000</td>\n",
              "      <td>15:29</td>\n",
              "      <td>188.00</td>\n",
              "      <td>55691728</td>\n",
              "      <td>10385.0</td>\n",
              "      <td>COMPRA NO PARCELADO</td>\n",
              "      <td>PAG*RaildaAbrantes</td>\n",
              "      <td>5</td>\n",
              "    </tr>\n",
              "    <tr>\n",
              "      <th>2</th>\n",
              "      <td>4230899</td>\n",
              "      <td>DMCARD MASTERCARD</td>\n",
              "      <td>DMCARD MASTERCARD VITORIA</td>\n",
              "      <td>2021-03-10 00:00:00.000</td>\n",
              "      <td>15:29</td>\n",
              "      <td>188.00</td>\n",
              "      <td>55691728</td>\n",
              "      <td>10385.0</td>\n",
              "      <td>COMPRA NO PARCELADO</td>\n",
              "      <td>PAG*RaildaAbrantes</td>\n",
              "      <td>5</td>\n",
              "    </tr>\n",
              "    <tr>\n",
              "      <th>3</th>\n",
              "      <td>4230899</td>\n",
              "      <td>DMCARD MASTERCARD</td>\n",
              "      <td>DMCARD MASTERCARD VITORIA</td>\n",
              "      <td>2021-03-10 00:00:00.000</td>\n",
              "      <td>15:29</td>\n",
              "      <td>188.00</td>\n",
              "      <td>55691728</td>\n",
              "      <td>10385.0</td>\n",
              "      <td>COMPRA NO PARCELADO</td>\n",
              "      <td>PAG*RaildaAbrantes</td>\n",
              "      <td>5</td>\n",
              "    </tr>\n",
              "    <tr>\n",
              "      <th>4</th>\n",
              "      <td>4185782</td>\n",
              "      <td>DMCARD MASTERCARD</td>\n",
              "      <td>DMCARD MASTERCARD VITORIA</td>\n",
              "      <td>2021-03-18 00:00:00.000</td>\n",
              "      <td>09:22</td>\n",
              "      <td>133.74</td>\n",
              "      <td>146699363</td>\n",
              "      <td>10385.0</td>\n",
              "      <td>COMPRA NO PARCELADO</td>\n",
              "      <td>AUTO SERVICO INTERNACI</td>\n",
              "      <td>2</td>\n",
              "    </tr>\n",
              "  </tbody>\n",
              "</table>\n",
              "</div>"
            ],
            "text/plain": [
              "   COD_ASSOCIADO            EMPRESA  ...           IDENTIFICACAO PARCELAS\n",
              "0        4230899  DMCARD MASTERCARD  ...  PAG*RaildaAbrantes            5\n",
              "1        4230899  DMCARD MASTERCARD  ...  PAG*RaildaAbrantes            5\n",
              "2        4230899  DMCARD MASTERCARD  ...  PAG*RaildaAbrantes            5\n",
              "3        4230899  DMCARD MASTERCARD  ...  PAG*RaildaAbrantes            5\n",
              "4        4185782  DMCARD MASTERCARD  ...  AUTO SERVICO INTERNACI        2\n",
              "\n",
              "[5 rows x 11 columns]"
            ]
          },
          "metadata": {
            "tags": []
          },
          "execution_count": 18
        }
      ]
    },
    {
      "cell_type": "code",
      "metadata": {
        "id": "IGwsfZ_Z7EUt"
      },
      "source": [
        "# Tirando transções duplicadas\n",
        "\n",
        "df_t2 = df_t.drop_duplicates(subset='AUTORIZACAO')"
      ],
      "execution_count": null,
      "outputs": []
    },
    {
      "cell_type": "code",
      "metadata": {
        "id": "hV4QcbBuHR4l",
        "colab": {
          "base_uri": "https://localhost:8080/"
        },
        "outputId": "2a237ee7-5afd-4376-f0e9-ba4d156882cb"
      },
      "source": [
        "# Mudando formato de data para coluna DATA_MOVIMENTO\n",
        "\n",
        "df_t2['DATA_MOVIMENTO'] = pd.to_datetime(df_t2['DATA_MOVIMENTO'], format=\"%Y-%m-%d\")"
      ],
      "execution_count": null,
      "outputs": [
        {
          "output_type": "stream",
          "text": [
            "/usr/local/lib/python3.7/dist-packages/ipykernel_launcher.py:3: SettingWithCopyWarning: \n",
            "A value is trying to be set on a copy of a slice from a DataFrame.\n",
            "Try using .loc[row_indexer,col_indexer] = value instead\n",
            "\n",
            "See the caveats in the documentation: https://pandas.pydata.org/pandas-docs/stable/user_guide/indexing.html#returning-a-view-versus-a-copy\n",
            "  This is separate from the ipykernel package so we can avoid doing imports until\n"
          ],
          "name": "stderr"
        }
      ]
    },
    {
      "cell_type": "markdown",
      "metadata": {
        "id": "UMNayiPXH7Y-"
      },
      "source": [
        "## Tabela de Cliente"
      ]
    },
    {
      "cell_type": "code",
      "metadata": {
        "colab": {
          "base_uri": "https://localhost:8080/",
          "height": 313
        },
        "id": "r5o_mwZG80vt",
        "outputId": "10821ccc-40cd-4953-b62d-e03b088e3425"
      },
      "source": [
        "df_c.head()"
      ],
      "execution_count": null,
      "outputs": [
        {
          "output_type": "execute_result",
          "data": {
            "text/html": [
              "<div>\n",
              "<style scoped>\n",
              "    .dataframe tbody tr th:only-of-type {\n",
              "        vertical-align: middle;\n",
              "    }\n",
              "\n",
              "    .dataframe tbody tr th {\n",
              "        vertical-align: top;\n",
              "    }\n",
              "\n",
              "    .dataframe thead th {\n",
              "        text-align: right;\n",
              "    }\n",
              "</style>\n",
              "<table border=\"1\" class=\"dataframe\">\n",
              "  <thead>\n",
              "    <tr style=\"text-align: right;\">\n",
              "      <th></th>\n",
              "      <th>COD_ASSOCIADO</th>\n",
              "      <th>COD_EMPRESA</th>\n",
              "      <th>STATUS</th>\n",
              "      <th>LIMITE</th>\n",
              "      <th>DATA_PRIMEIRA_COMPRA</th>\n",
              "      <th>DATA_ULTIMA_COMPRA</th>\n",
              "      <th>CONSUMO</th>\n",
              "      <th>VIA_CARTAO</th>\n",
              "      <th>ADESAO</th>\n",
              "      <th>TIPO_PESSOA</th>\n",
              "      <th>SEXO</th>\n",
              "      <th>ESTADO_CIVIL</th>\n",
              "      <th>NASCIMENTO</th>\n",
              "      <th>RENDA</th>\n",
              "      <th>FECHAMENTO</th>\n",
              "      <th>RENDA_COMPROVADA</th>\n",
              "      <th>DIA_VENCTO</th>\n",
              "      <th>ESCOLARIDADE</th>\n",
              "      <th>OCUPACAO</th>\n",
              "      <th>RISCO_LOJISTA</th>\n",
              "      <th>NOME</th>\n",
              "      <th>COD_ESTADO</th>\n",
              "      <th>ULTIMA_ATUALIZACAO</th>\n",
              "    </tr>\n",
              "  </thead>\n",
              "  <tbody>\n",
              "    <tr>\n",
              "      <th>0</th>\n",
              "      <td>1687074</td>\n",
              "      <td>206</td>\n",
              "      <td>L</td>\n",
              "      <td>1000,00</td>\n",
              "      <td>2014-10-27 00:00:00.000</td>\n",
              "      <td>2021-04-24 00:00:00.000</td>\n",
              "      <td>96,62</td>\n",
              "      <td>3</td>\n",
              "      <td>2020-10-15 00:00:00.000</td>\n",
              "      <td>F</td>\n",
              "      <td>F</td>\n",
              "      <td>SOLTEIRO</td>\n",
              "      <td>1994-05-05 00:00:00.000</td>\n",
              "      <td>1100,00</td>\n",
              "      <td>27</td>\n",
              "      <td>S</td>\n",
              "      <td>11</td>\n",
              "      <td>COLEGIAL</td>\n",
              "      <td>FUNCIONÁRIO REGISTRADO/ASSALARIADO</td>\n",
              "      <td>N</td>\n",
              "      <td>SAO PAULO</td>\n",
              "      <td>SP</td>\n",
              "      <td>2014-10-27 15:09:00.960</td>\n",
              "    </tr>\n",
              "    <tr>\n",
              "      <th>1</th>\n",
              "      <td>1687201</td>\n",
              "      <td>206</td>\n",
              "      <td>L</td>\n",
              "      <td>150,00</td>\n",
              "      <td>2014-10-27 00:00:00.000</td>\n",
              "      <td>2014-10-27 00:00:00.000</td>\n",
              "      <td>0,00</td>\n",
              "      <td>3</td>\n",
              "      <td>2020-10-15 00:00:00.000</td>\n",
              "      <td>F</td>\n",
              "      <td>M</td>\n",
              "      <td>SOLTEIRO</td>\n",
              "      <td>1960-11-29 00:00:00.000</td>\n",
              "      <td>3500,00</td>\n",
              "      <td>28</td>\n",
              "      <td>S</td>\n",
              "      <td>12</td>\n",
              "      <td>COLEGIAL</td>\n",
              "      <td>FUNCIONÁRIO REGISTRADO/ASSALARIADO</td>\n",
              "      <td>N</td>\n",
              "      <td>SAO PAULO</td>\n",
              "      <td>SP</td>\n",
              "      <td>2014-10-27 16:41:22.153</td>\n",
              "    </tr>\n",
              "    <tr>\n",
              "      <th>2</th>\n",
              "      <td>1695640</td>\n",
              "      <td>206</td>\n",
              "      <td>L</td>\n",
              "      <td>1149,90</td>\n",
              "      <td>2014-11-08 00:00:00.000</td>\n",
              "      <td>2021-04-12 00:00:00.000</td>\n",
              "      <td>1112,33</td>\n",
              "      <td>3</td>\n",
              "      <td>2020-10-15 00:00:00.000</td>\n",
              "      <td>F</td>\n",
              "      <td>M</td>\n",
              "      <td>SOLTEIRO</td>\n",
              "      <td>1978-05-04 00:00:00.000</td>\n",
              "      <td>3000,00</td>\n",
              "      <td>8</td>\n",
              "      <td>S</td>\n",
              "      <td>23</td>\n",
              "      <td>COLEGIAL</td>\n",
              "      <td>FUNCIONÁRIO REGISTRADO/ASSALARIADO</td>\n",
              "      <td>N</td>\n",
              "      <td>SAO PAULO</td>\n",
              "      <td>SP</td>\n",
              "      <td>2021-02-02 21:00:10.797</td>\n",
              "    </tr>\n",
              "    <tr>\n",
              "      <th>3</th>\n",
              "      <td>1695909</td>\n",
              "      <td>206</td>\n",
              "      <td>Q</td>\n",
              "      <td>1100,00</td>\n",
              "      <td>2014-11-08 00:00:00.000</td>\n",
              "      <td>2021-04-14 00:00:00.000</td>\n",
              "      <td>3,99</td>\n",
              "      <td>3</td>\n",
              "      <td>2020-10-15 00:00:00.000</td>\n",
              "      <td>F</td>\n",
              "      <td>F</td>\n",
              "      <td>CASADO</td>\n",
              "      <td>1987-09-02 00:00:00.000</td>\n",
              "      <td>3000,00</td>\n",
              "      <td>28</td>\n",
              "      <td>S</td>\n",
              "      <td>12</td>\n",
              "      <td>COLEGIAL</td>\n",
              "      <td>FUNCIONÁRIO REGISTRADO/ASSALARIADO</td>\n",
              "      <td>N</td>\n",
              "      <td>SAO PAULO</td>\n",
              "      <td>SP</td>\n",
              "      <td>2014-11-08 09:47:20.887</td>\n",
              "    </tr>\n",
              "    <tr>\n",
              "      <th>4</th>\n",
              "      <td>1698055</td>\n",
              "      <td>206</td>\n",
              "      <td>L</td>\n",
              "      <td>700,00</td>\n",
              "      <td>2014-11-11 00:00:00.000</td>\n",
              "      <td>2021-04-20 00:00:00.000</td>\n",
              "      <td>514,05</td>\n",
              "      <td>5</td>\n",
              "      <td>2020-10-15 00:00:00.000</td>\n",
              "      <td>F</td>\n",
              "      <td>F</td>\n",
              "      <td>DIVORCIADO</td>\n",
              "      <td>1970-10-16 00:00:00.000</td>\n",
              "      <td>1096,00</td>\n",
              "      <td>27</td>\n",
              "      <td>S</td>\n",
              "      <td>11</td>\n",
              "      <td>COLEGIAL</td>\n",
              "      <td>FUNCIONÁRIO REGISTRADO/ASSALARIADO</td>\n",
              "      <td>N</td>\n",
              "      <td>SAO PAULO</td>\n",
              "      <td>SP</td>\n",
              "      <td>2014-11-11 15:49:50.230</td>\n",
              "    </tr>\n",
              "  </tbody>\n",
              "</table>\n",
              "</div>"
            ],
            "text/plain": [
              "   COD_ASSOCIADO  COD_EMPRESA  ... COD_ESTADO       ULTIMA_ATUALIZACAO\n",
              "0        1687074          206  ...         SP  2014-10-27 15:09:00.960\n",
              "1        1687201          206  ...         SP  2014-10-27 16:41:22.153\n",
              "2        1695640          206  ...         SP  2021-02-02 21:00:10.797\n",
              "3        1695909          206  ...         SP  2014-11-08 09:47:20.887\n",
              "4        1698055          206  ...         SP  2014-11-11 15:49:50.230\n",
              "\n",
              "[5 rows x 23 columns]"
            ]
          },
          "metadata": {
            "tags": []
          },
          "execution_count": 21
        }
      ]
    },
    {
      "cell_type": "code",
      "metadata": {
        "id": "aWe-rpBqKivx"
      },
      "source": [
        " # Trocando virgula por ponto nos valores numéricos\n",
        "df_c['LIMITE'] = df_c['LIMITE'].apply(lambda x: x.replace(',','.'))"
      ],
      "execution_count": null,
      "outputs": []
    },
    {
      "cell_type": "code",
      "metadata": {
        "id": "g9_phEOeIk7j"
      },
      "source": [
        "# Trocando valores para float\n",
        "df_c['LIMITE'] = df_c['LIMITE'].astype(float, errors = 'raise') \n"
      ],
      "execution_count": null,
      "outputs": []
    },
    {
      "cell_type": "code",
      "metadata": {
        "id": "PQXPA5qDIYtZ"
      },
      "source": [
        "# df_outliers = df_c.loc[df_c['LIMITE'] > 5000]\n",
        "# df_outliers['LIMITE'].value_counts().sum()\n",
        "# df_outliers['LIMITE'].value_counts()\n",
        "# df_outliers2 = df.loc[df['LIMITE'] > 50000]"
      ],
      "execution_count": null,
      "outputs": []
    },
    {
      "cell_type": "code",
      "metadata": {
        "colab": {
          "base_uri": "https://localhost:8080/"
        },
        "id": "9xEu9Cv5JFfU",
        "outputId": "081d59ed-ddfb-4cbb-aa89-9088f897267f"
      },
      "source": [
        "df_c.info()"
      ],
      "execution_count": null,
      "outputs": [
        {
          "output_type": "stream",
          "text": [
            "<class 'pandas.core.frame.DataFrame'>\n",
            "RangeIndex: 62018 entries, 0 to 62017\n",
            "Data columns (total 23 columns):\n",
            " #   Column                Non-Null Count  Dtype  \n",
            "---  ------                --------------  -----  \n",
            " 0   COD_ASSOCIADO         62018 non-null  int64  \n",
            " 1   COD_EMPRESA           62018 non-null  int64  \n",
            " 2   STATUS                62018 non-null  object \n",
            " 3   LIMITE                62018 non-null  float64\n",
            " 4   DATA_PRIMEIRA_COMPRA  61122 non-null  object \n",
            " 5   DATA_ULTIMA_COMPRA    61122 non-null  object \n",
            " 6   CONSUMO               62018 non-null  object \n",
            " 7   VIA_CARTAO            62018 non-null  int64  \n",
            " 8   ADESAO                62018 non-null  object \n",
            " 9   TIPO_PESSOA           62018 non-null  object \n",
            " 10  SEXO                  62018 non-null  object \n",
            " 11  ESTADO_CIVIL          52342 non-null  object \n",
            " 12  NASCIMENTO            62018 non-null  object \n",
            " 13  RENDA                 62018 non-null  object \n",
            " 14  FECHAMENTO            62018 non-null  int64  \n",
            " 15  RENDA_COMPROVADA      62003 non-null  object \n",
            " 16  DIA_VENCTO            62018 non-null  int64  \n",
            " 17  ESCOLARIDADE          62014 non-null  object \n",
            " 18  OCUPACAO              61855 non-null  object \n",
            " 19  RISCO_LOJISTA         62018 non-null  object \n",
            " 20  NOME                  62018 non-null  object \n",
            " 21  COD_ESTADO            62018 non-null  object \n",
            " 22  ULTIMA_ATUALIZACAO    62018 non-null  object \n",
            "dtypes: float64(1), int64(5), object(17)\n",
            "memory usage: 10.9+ MB\n"
          ],
          "name": "stdout"
        }
      ]
    },
    {
      "cell_type": "code",
      "metadata": {
        "id": "cd4n1jAE9I4M"
      },
      "source": [
        "#Trocando formato de valores de data\n",
        "df_c['DATA_PRIMEIRA_COMPRA'] = pd.to_datetime(df_c['DATA_PRIMEIRA_COMPRA'], format=\"%Y-%m-%d\")\n",
        "df_c['DATA_ULTIMA_COMPRA'] = pd.to_datetime(df_c['DATA_ULTIMA_COMPRA'], format=\"%Y-%m-%d\")\n",
        "df_c['ADESAO'] = pd.to_datetime(df_c['ADESAO'], format=\"%Y-%m-%d\")\n",
        "df_c['NASCIMENTO'] = pd.to_datetime(df_c['NASCIMENTO'], format=\"%Y-%m-%d\")\n",
        "df_c['ULTIMA_ATUALIZACAO'] = pd.to_datetime(df_c['ULTIMA_ATUALIZACAO'], format=\"%Y-%m-%d\")"
      ],
      "execution_count": null,
      "outputs": []
    },
    {
      "cell_type": "code",
      "metadata": {
        "id": "vYm2XAl_IlnM"
      },
      "source": [
        "#criando associaçoes para dar MERGE nas colunas\n",
        "left = df_t2\n",
        "right = df_c"
      ],
      "execution_count": null,
      "outputs": []
    },
    {
      "cell_type": "code",
      "metadata": {
        "id": "fjL6UD-Wcp-U"
      },
      "source": [
        "#Novo dataframe com o merge\n",
        "df = pd.merge(left, right, on=\"COD_ASSOCIADO\")"
      ],
      "execution_count": null,
      "outputs": []
    },
    {
      "cell_type": "markdown",
      "metadata": {
        "id": "N-AAhRrLdwm4"
      },
      "source": [
        "## Novo DATAFRAME Uniao de Cliente com Transações"
      ]
    },
    {
      "cell_type": "code",
      "metadata": {
        "colab": {
          "base_uri": "https://localhost:8080/",
          "height": 400
        },
        "id": "LDT7APfMcxmG",
        "outputId": "b8c42012-37e1-45e8-9f3e-e1bde695fb17"
      },
      "source": [
        "df.head()"
      ],
      "execution_count": null,
      "outputs": [
        {
          "output_type": "execute_result",
          "data": {
            "text/html": [
              "<div>\n",
              "<style scoped>\n",
              "    .dataframe tbody tr th:only-of-type {\n",
              "        vertical-align: middle;\n",
              "    }\n",
              "\n",
              "    .dataframe tbody tr th {\n",
              "        vertical-align: top;\n",
              "    }\n",
              "\n",
              "    .dataframe thead th {\n",
              "        text-align: right;\n",
              "    }\n",
              "</style>\n",
              "<table border=\"1\" class=\"dataframe\">\n",
              "  <thead>\n",
              "    <tr style=\"text-align: right;\">\n",
              "      <th></th>\n",
              "      <th>COD_ASSOCIADO</th>\n",
              "      <th>EMPRESA</th>\n",
              "      <th>ESTABELECIMENTO</th>\n",
              "      <th>DATA_MOVIMENTO</th>\n",
              "      <th>HORA</th>\n",
              "      <th>VALOR</th>\n",
              "      <th>AUTORIZACAO</th>\n",
              "      <th>COD_ESTABELECIMENTO</th>\n",
              "      <th>LANCAMENTO</th>\n",
              "      <th>IDENTIFICACAO</th>\n",
              "      <th>PARCELAS</th>\n",
              "      <th>COD_EMPRESA</th>\n",
              "      <th>STATUS</th>\n",
              "      <th>LIMITE</th>\n",
              "      <th>DATA_PRIMEIRA_COMPRA</th>\n",
              "      <th>DATA_ULTIMA_COMPRA</th>\n",
              "      <th>CONSUMO</th>\n",
              "      <th>VIA_CARTAO</th>\n",
              "      <th>ADESAO</th>\n",
              "      <th>TIPO_PESSOA</th>\n",
              "      <th>SEXO</th>\n",
              "      <th>ESTADO_CIVIL</th>\n",
              "      <th>NASCIMENTO</th>\n",
              "      <th>RENDA</th>\n",
              "      <th>FECHAMENTO</th>\n",
              "      <th>RENDA_COMPROVADA</th>\n",
              "      <th>DIA_VENCTO</th>\n",
              "      <th>ESCOLARIDADE</th>\n",
              "      <th>OCUPACAO</th>\n",
              "      <th>RISCO_LOJISTA</th>\n",
              "      <th>NOME</th>\n",
              "      <th>COD_ESTADO</th>\n",
              "      <th>ULTIMA_ATUALIZACAO</th>\n",
              "    </tr>\n",
              "  </thead>\n",
              "  <tbody>\n",
              "    <tr>\n",
              "      <th>0</th>\n",
              "      <td>4230899</td>\n",
              "      <td>DMCARD MASTERCARD</td>\n",
              "      <td>DMCARD MASTERCARD VITORIA</td>\n",
              "      <td>2021-03-10</td>\n",
              "      <td>15:29</td>\n",
              "      <td>188.00</td>\n",
              "      <td>55691728</td>\n",
              "      <td>10385.0</td>\n",
              "      <td>COMPRA NO PARCELADO</td>\n",
              "      <td>PAG*RaildaAbrantes</td>\n",
              "      <td>5</td>\n",
              "      <td>318</td>\n",
              "      <td>L</td>\n",
              "      <td>4000.0</td>\n",
              "      <td>2020-12-18</td>\n",
              "      <td>2021-04-28</td>\n",
              "      <td>3972,37</td>\n",
              "      <td>1</td>\n",
              "      <td>2020-11-01</td>\n",
              "      <td>F</td>\n",
              "      <td>F</td>\n",
              "      <td>OUTROS</td>\n",
              "      <td>1965-12-22</td>\n",
              "      <td>1000,00</td>\n",
              "      <td>8</td>\n",
              "      <td>S</td>\n",
              "      <td>23</td>\n",
              "      <td>NENHUMA</td>\n",
              "      <td>FUNCIONÁRIO REGISTRADO/ASSALARIADO</td>\n",
              "      <td>N</td>\n",
              "      <td>SAO MATEUS</td>\n",
              "      <td>ES</td>\n",
              "      <td>2020-11-01 05:02:51.177</td>\n",
              "    </tr>\n",
              "    <tr>\n",
              "      <th>1</th>\n",
              "      <td>4230899</td>\n",
              "      <td>DMCARD MASTERCARD</td>\n",
              "      <td>DMCARD MASTERCARD VITORIA</td>\n",
              "      <td>2021-03-10</td>\n",
              "      <td>15:29</td>\n",
              "      <td>188.00</td>\n",
              "      <td>55691728</td>\n",
              "      <td>10385.0</td>\n",
              "      <td>COMPRA NO PARCELADO</td>\n",
              "      <td>PAG*RaildaAbrantes</td>\n",
              "      <td>5</td>\n",
              "      <td>318</td>\n",
              "      <td>L</td>\n",
              "      <td>4000.0</td>\n",
              "      <td>2020-12-18</td>\n",
              "      <td>2021-04-28</td>\n",
              "      <td>3972,37</td>\n",
              "      <td>1</td>\n",
              "      <td>2020-11-01</td>\n",
              "      <td>F</td>\n",
              "      <td>F</td>\n",
              "      <td>OUTROS</td>\n",
              "      <td>1965-12-22</td>\n",
              "      <td>1000,00</td>\n",
              "      <td>8</td>\n",
              "      <td>S</td>\n",
              "      <td>23</td>\n",
              "      <td>NENHUMA</td>\n",
              "      <td>FUNCIONÁRIO REGISTRADO/ASSALARIADO</td>\n",
              "      <td>N</td>\n",
              "      <td>SAO MATEUS</td>\n",
              "      <td>ES</td>\n",
              "      <td>2020-11-01 05:02:51.180</td>\n",
              "    </tr>\n",
              "    <tr>\n",
              "      <th>2</th>\n",
              "      <td>4230899</td>\n",
              "      <td>DMCARD MASTERCARD</td>\n",
              "      <td>DMCARD MASTERCARD VITORIA</td>\n",
              "      <td>2020-12-19</td>\n",
              "      <td>10:07</td>\n",
              "      <td>123.77</td>\n",
              "      <td>1927289611</td>\n",
              "      <td>10385.0</td>\n",
              "      <td>COMPRA NO PARCELADO</td>\n",
              "      <td>MOVEIS LINHARES</td>\n",
              "      <td>10</td>\n",
              "      <td>318</td>\n",
              "      <td>L</td>\n",
              "      <td>4000.0</td>\n",
              "      <td>2020-12-18</td>\n",
              "      <td>2021-04-28</td>\n",
              "      <td>3972,37</td>\n",
              "      <td>1</td>\n",
              "      <td>2020-11-01</td>\n",
              "      <td>F</td>\n",
              "      <td>F</td>\n",
              "      <td>OUTROS</td>\n",
              "      <td>1965-12-22</td>\n",
              "      <td>1000,00</td>\n",
              "      <td>8</td>\n",
              "      <td>S</td>\n",
              "      <td>23</td>\n",
              "      <td>NENHUMA</td>\n",
              "      <td>FUNCIONÁRIO REGISTRADO/ASSALARIADO</td>\n",
              "      <td>N</td>\n",
              "      <td>SAO MATEUS</td>\n",
              "      <td>ES</td>\n",
              "      <td>2020-11-01 05:02:51.177</td>\n",
              "    </tr>\n",
              "    <tr>\n",
              "      <th>3</th>\n",
              "      <td>4230899</td>\n",
              "      <td>DMCARD MASTERCARD</td>\n",
              "      <td>DMCARD MASTERCARD VITORIA</td>\n",
              "      <td>2020-12-19</td>\n",
              "      <td>10:07</td>\n",
              "      <td>123.77</td>\n",
              "      <td>1927289611</td>\n",
              "      <td>10385.0</td>\n",
              "      <td>COMPRA NO PARCELADO</td>\n",
              "      <td>MOVEIS LINHARES</td>\n",
              "      <td>10</td>\n",
              "      <td>318</td>\n",
              "      <td>L</td>\n",
              "      <td>4000.0</td>\n",
              "      <td>2020-12-18</td>\n",
              "      <td>2021-04-28</td>\n",
              "      <td>3972,37</td>\n",
              "      <td>1</td>\n",
              "      <td>2020-11-01</td>\n",
              "      <td>F</td>\n",
              "      <td>F</td>\n",
              "      <td>OUTROS</td>\n",
              "      <td>1965-12-22</td>\n",
              "      <td>1000,00</td>\n",
              "      <td>8</td>\n",
              "      <td>S</td>\n",
              "      <td>23</td>\n",
              "      <td>NENHUMA</td>\n",
              "      <td>FUNCIONÁRIO REGISTRADO/ASSALARIADO</td>\n",
              "      <td>N</td>\n",
              "      <td>SAO MATEUS</td>\n",
              "      <td>ES</td>\n",
              "      <td>2020-11-01 05:02:51.180</td>\n",
              "    </tr>\n",
              "    <tr>\n",
              "      <th>4</th>\n",
              "      <td>4230899</td>\n",
              "      <td>DMCARD MASTERCARD</td>\n",
              "      <td>DMCARD MASTERCARD VITORIA</td>\n",
              "      <td>2021-04-01</td>\n",
              "      <td>11:02</td>\n",
              "      <td>50.30</td>\n",
              "      <td>2023192187</td>\n",
              "      <td>10385.0</td>\n",
              "      <td>COMPRA NO PARCELADO</td>\n",
              "      <td>EXTRABOM SUPERMERCADOS</td>\n",
              "      <td>2</td>\n",
              "      <td>318</td>\n",
              "      <td>L</td>\n",
              "      <td>4000.0</td>\n",
              "      <td>2020-12-18</td>\n",
              "      <td>2021-04-28</td>\n",
              "      <td>3972,37</td>\n",
              "      <td>1</td>\n",
              "      <td>2020-11-01</td>\n",
              "      <td>F</td>\n",
              "      <td>F</td>\n",
              "      <td>OUTROS</td>\n",
              "      <td>1965-12-22</td>\n",
              "      <td>1000,00</td>\n",
              "      <td>8</td>\n",
              "      <td>S</td>\n",
              "      <td>23</td>\n",
              "      <td>NENHUMA</td>\n",
              "      <td>FUNCIONÁRIO REGISTRADO/ASSALARIADO</td>\n",
              "      <td>N</td>\n",
              "      <td>SAO MATEUS</td>\n",
              "      <td>ES</td>\n",
              "      <td>2020-11-01 05:02:51.177</td>\n",
              "    </tr>\n",
              "  </tbody>\n",
              "</table>\n",
              "</div>"
            ],
            "text/plain": [
              "   COD_ASSOCIADO            EMPRESA  ... COD_ESTADO      ULTIMA_ATUALIZACAO\n",
              "0        4230899  DMCARD MASTERCARD  ...         ES 2020-11-01 05:02:51.177\n",
              "1        4230899  DMCARD MASTERCARD  ...         ES 2020-11-01 05:02:51.180\n",
              "2        4230899  DMCARD MASTERCARD  ...         ES 2020-11-01 05:02:51.177\n",
              "3        4230899  DMCARD MASTERCARD  ...         ES 2020-11-01 05:02:51.180\n",
              "4        4230899  DMCARD MASTERCARD  ...         ES 2020-11-01 05:02:51.177\n",
              "\n",
              "[5 rows x 33 columns]"
            ]
          },
          "metadata": {
            "tags": []
          },
          "execution_count": 29
        }
      ]
    },
    {
      "cell_type": "code",
      "metadata": {
        "id": "Qubk7gGV83RE"
      },
      "source": [
        "# Trocando pontos por virgulas em valores numéricos\n",
        "\n",
        "df['CONSUMO'] = df['CONSUMO'].apply(lambda x: x.replace(',','.'))\n",
        "df['RENDA'] = df['RENDA'].apply(lambda x: x.replace(',','.'))\n",
        "df['CONSUMO'] = df['CONSUMO'].astype(float, errors = 'raise') \n",
        "df['RENDA'] = df['RENDA'].astype(float, errors = 'raise') "
      ],
      "execution_count": null,
      "outputs": []
    },
    {
      "cell_type": "code",
      "metadata": {
        "id": "2yJeO3-98Dai"
      },
      "source": [
        "# Dropando novamente baseado na coluna AUTORIZACAO e gerando um novo Dataframe\n",
        "\n",
        "df2 = df.drop_duplicates(subset='AUTORIZACAO')"
      ],
      "execution_count": null,
      "outputs": []
    },
    {
      "cell_type": "code",
      "metadata": {
        "colab": {
          "base_uri": "https://localhost:8080/"
        },
        "id": "Ut3HLYqd8vX9",
        "outputId": "a5a253c4-915f-4d3a-d26b-84ecdd047a3f"
      },
      "source": [
        "df2.shape"
      ],
      "execution_count": null,
      "outputs": [
        {
          "output_type": "execute_result",
          "data": {
            "text/plain": [
              "(1400133, 33)"
            ]
          },
          "metadata": {
            "tags": []
          },
          "execution_count": 32
        }
      ]
    },
    {
      "cell_type": "code",
      "metadata": {
        "id": "zHOrG61EflyZ",
        "colab": {
          "base_uri": "https://localhost:8080/",
          "height": 400
        },
        "outputId": "77084896-dce9-468c-82fd-13a2d02e786f"
      },
      "source": [
        "df2.head()"
      ],
      "execution_count": null,
      "outputs": [
        {
          "output_type": "execute_result",
          "data": {
            "text/html": [
              "<div>\n",
              "<style scoped>\n",
              "    .dataframe tbody tr th:only-of-type {\n",
              "        vertical-align: middle;\n",
              "    }\n",
              "\n",
              "    .dataframe tbody tr th {\n",
              "        vertical-align: top;\n",
              "    }\n",
              "\n",
              "    .dataframe thead th {\n",
              "        text-align: right;\n",
              "    }\n",
              "</style>\n",
              "<table border=\"1\" class=\"dataframe\">\n",
              "  <thead>\n",
              "    <tr style=\"text-align: right;\">\n",
              "      <th></th>\n",
              "      <th>COD_ASSOCIADO</th>\n",
              "      <th>EMPRESA</th>\n",
              "      <th>ESTABELECIMENTO</th>\n",
              "      <th>DATA_MOVIMENTO</th>\n",
              "      <th>HORA</th>\n",
              "      <th>VALOR</th>\n",
              "      <th>AUTORIZACAO</th>\n",
              "      <th>COD_ESTABELECIMENTO</th>\n",
              "      <th>LANCAMENTO</th>\n",
              "      <th>IDENTIFICACAO</th>\n",
              "      <th>PARCELAS</th>\n",
              "      <th>COD_EMPRESA</th>\n",
              "      <th>STATUS</th>\n",
              "      <th>LIMITE</th>\n",
              "      <th>DATA_PRIMEIRA_COMPRA</th>\n",
              "      <th>DATA_ULTIMA_COMPRA</th>\n",
              "      <th>CONSUMO</th>\n",
              "      <th>VIA_CARTAO</th>\n",
              "      <th>ADESAO</th>\n",
              "      <th>TIPO_PESSOA</th>\n",
              "      <th>SEXO</th>\n",
              "      <th>ESTADO_CIVIL</th>\n",
              "      <th>NASCIMENTO</th>\n",
              "      <th>RENDA</th>\n",
              "      <th>FECHAMENTO</th>\n",
              "      <th>RENDA_COMPROVADA</th>\n",
              "      <th>DIA_VENCTO</th>\n",
              "      <th>ESCOLARIDADE</th>\n",
              "      <th>OCUPACAO</th>\n",
              "      <th>RISCO_LOJISTA</th>\n",
              "      <th>NOME</th>\n",
              "      <th>COD_ESTADO</th>\n",
              "      <th>ULTIMA_ATUALIZACAO</th>\n",
              "    </tr>\n",
              "  </thead>\n",
              "  <tbody>\n",
              "    <tr>\n",
              "      <th>0</th>\n",
              "      <td>4230899</td>\n",
              "      <td>DMCARD MASTERCARD</td>\n",
              "      <td>DMCARD MASTERCARD VITORIA</td>\n",
              "      <td>2021-03-10</td>\n",
              "      <td>15:29</td>\n",
              "      <td>188.00</td>\n",
              "      <td>55691728</td>\n",
              "      <td>10385.0</td>\n",
              "      <td>COMPRA NO PARCELADO</td>\n",
              "      <td>PAG*RaildaAbrantes</td>\n",
              "      <td>5</td>\n",
              "      <td>318</td>\n",
              "      <td>L</td>\n",
              "      <td>4000.0</td>\n",
              "      <td>2020-12-18</td>\n",
              "      <td>2021-04-28</td>\n",
              "      <td>3972.37</td>\n",
              "      <td>1</td>\n",
              "      <td>2020-11-01</td>\n",
              "      <td>F</td>\n",
              "      <td>F</td>\n",
              "      <td>OUTROS</td>\n",
              "      <td>1965-12-22</td>\n",
              "      <td>1000.0</td>\n",
              "      <td>8</td>\n",
              "      <td>S</td>\n",
              "      <td>23</td>\n",
              "      <td>NENHUMA</td>\n",
              "      <td>FUNCIONÁRIO REGISTRADO/ASSALARIADO</td>\n",
              "      <td>N</td>\n",
              "      <td>SAO MATEUS</td>\n",
              "      <td>ES</td>\n",
              "      <td>2020-11-01 05:02:51.177</td>\n",
              "    </tr>\n",
              "    <tr>\n",
              "      <th>2</th>\n",
              "      <td>4230899</td>\n",
              "      <td>DMCARD MASTERCARD</td>\n",
              "      <td>DMCARD MASTERCARD VITORIA</td>\n",
              "      <td>2020-12-19</td>\n",
              "      <td>10:07</td>\n",
              "      <td>123.77</td>\n",
              "      <td>1927289611</td>\n",
              "      <td>10385.0</td>\n",
              "      <td>COMPRA NO PARCELADO</td>\n",
              "      <td>MOVEIS LINHARES</td>\n",
              "      <td>10</td>\n",
              "      <td>318</td>\n",
              "      <td>L</td>\n",
              "      <td>4000.0</td>\n",
              "      <td>2020-12-18</td>\n",
              "      <td>2021-04-28</td>\n",
              "      <td>3972.37</td>\n",
              "      <td>1</td>\n",
              "      <td>2020-11-01</td>\n",
              "      <td>F</td>\n",
              "      <td>F</td>\n",
              "      <td>OUTROS</td>\n",
              "      <td>1965-12-22</td>\n",
              "      <td>1000.0</td>\n",
              "      <td>8</td>\n",
              "      <td>S</td>\n",
              "      <td>23</td>\n",
              "      <td>NENHUMA</td>\n",
              "      <td>FUNCIONÁRIO REGISTRADO/ASSALARIADO</td>\n",
              "      <td>N</td>\n",
              "      <td>SAO MATEUS</td>\n",
              "      <td>ES</td>\n",
              "      <td>2020-11-01 05:02:51.177</td>\n",
              "    </tr>\n",
              "    <tr>\n",
              "      <th>4</th>\n",
              "      <td>4230899</td>\n",
              "      <td>DMCARD MASTERCARD</td>\n",
              "      <td>DMCARD MASTERCARD VITORIA</td>\n",
              "      <td>2021-04-01</td>\n",
              "      <td>11:02</td>\n",
              "      <td>50.30</td>\n",
              "      <td>2023192187</td>\n",
              "      <td>10385.0</td>\n",
              "      <td>COMPRA NO PARCELADO</td>\n",
              "      <td>EXTRABOM SUPERMERCADOS</td>\n",
              "      <td>2</td>\n",
              "      <td>318</td>\n",
              "      <td>L</td>\n",
              "      <td>4000.0</td>\n",
              "      <td>2020-12-18</td>\n",
              "      <td>2021-04-28</td>\n",
              "      <td>3972.37</td>\n",
              "      <td>1</td>\n",
              "      <td>2020-11-01</td>\n",
              "      <td>F</td>\n",
              "      <td>F</td>\n",
              "      <td>OUTROS</td>\n",
              "      <td>1965-12-22</td>\n",
              "      <td>1000.0</td>\n",
              "      <td>8</td>\n",
              "      <td>S</td>\n",
              "      <td>23</td>\n",
              "      <td>NENHUMA</td>\n",
              "      <td>FUNCIONÁRIO REGISTRADO/ASSALARIADO</td>\n",
              "      <td>N</td>\n",
              "      <td>SAO MATEUS</td>\n",
              "      <td>ES</td>\n",
              "      <td>2020-11-01 05:02:51.177</td>\n",
              "    </tr>\n",
              "    <tr>\n",
              "      <th>6</th>\n",
              "      <td>4230899</td>\n",
              "      <td>DMCARD MASTERCARD</td>\n",
              "      <td>DMCARD MASTERCARD VITORIA</td>\n",
              "      <td>2021-04-28</td>\n",
              "      <td>17:34</td>\n",
              "      <td>51.41</td>\n",
              "      <td>4166399795</td>\n",
              "      <td>10385.0</td>\n",
              "      <td>COMPRA NO ROTATIVO</td>\n",
              "      <td>SUPERMERCADO YPE</td>\n",
              "      <td>1</td>\n",
              "      <td>318</td>\n",
              "      <td>L</td>\n",
              "      <td>4000.0</td>\n",
              "      <td>2020-12-18</td>\n",
              "      <td>2021-04-28</td>\n",
              "      <td>3972.37</td>\n",
              "      <td>1</td>\n",
              "      <td>2020-11-01</td>\n",
              "      <td>F</td>\n",
              "      <td>F</td>\n",
              "      <td>OUTROS</td>\n",
              "      <td>1965-12-22</td>\n",
              "      <td>1000.0</td>\n",
              "      <td>8</td>\n",
              "      <td>S</td>\n",
              "      <td>23</td>\n",
              "      <td>NENHUMA</td>\n",
              "      <td>FUNCIONÁRIO REGISTRADO/ASSALARIADO</td>\n",
              "      <td>N</td>\n",
              "      <td>SAO MATEUS</td>\n",
              "      <td>ES</td>\n",
              "      <td>2020-11-01 05:02:51.177</td>\n",
              "    </tr>\n",
              "    <tr>\n",
              "      <th>8</th>\n",
              "      <td>4230899</td>\n",
              "      <td>DMCARD MASTERCARD</td>\n",
              "      <td>DMCARD MASTERCARD VITORIA</td>\n",
              "      <td>2021-01-29</td>\n",
              "      <td>15:46</td>\n",
              "      <td>179.80</td>\n",
              "      <td>5995589954</td>\n",
              "      <td>10385.0</td>\n",
              "      <td>COMPRA NO PARCELADO</td>\n",
              "      <td>CASAS BAHIA</td>\n",
              "      <td>5</td>\n",
              "      <td>318</td>\n",
              "      <td>L</td>\n",
              "      <td>4000.0</td>\n",
              "      <td>2020-12-18</td>\n",
              "      <td>2021-04-28</td>\n",
              "      <td>3972.37</td>\n",
              "      <td>1</td>\n",
              "      <td>2020-11-01</td>\n",
              "      <td>F</td>\n",
              "      <td>F</td>\n",
              "      <td>OUTROS</td>\n",
              "      <td>1965-12-22</td>\n",
              "      <td>1000.0</td>\n",
              "      <td>8</td>\n",
              "      <td>S</td>\n",
              "      <td>23</td>\n",
              "      <td>NENHUMA</td>\n",
              "      <td>FUNCIONÁRIO REGISTRADO/ASSALARIADO</td>\n",
              "      <td>N</td>\n",
              "      <td>SAO MATEUS</td>\n",
              "      <td>ES</td>\n",
              "      <td>2020-11-01 05:02:51.177</td>\n",
              "    </tr>\n",
              "  </tbody>\n",
              "</table>\n",
              "</div>"
            ],
            "text/plain": [
              "   COD_ASSOCIADO            EMPRESA  ... COD_ESTADO      ULTIMA_ATUALIZACAO\n",
              "0        4230899  DMCARD MASTERCARD  ...         ES 2020-11-01 05:02:51.177\n",
              "2        4230899  DMCARD MASTERCARD  ...         ES 2020-11-01 05:02:51.177\n",
              "4        4230899  DMCARD MASTERCARD  ...         ES 2020-11-01 05:02:51.177\n",
              "6        4230899  DMCARD MASTERCARD  ...         ES 2020-11-01 05:02:51.177\n",
              "8        4230899  DMCARD MASTERCARD  ...         ES 2020-11-01 05:02:51.177\n",
              "\n",
              "[5 rows x 33 columns]"
            ]
          },
          "metadata": {
            "tags": []
          },
          "execution_count": 33
        }
      ]
    },
    {
      "cell_type": "code",
      "metadata": {
        "id": "oXWMZHqPBeBv"
      },
      "source": [
        "# Tirando colunas sem utilidade para o modelo \n",
        "\n",
        "df_clean = df2.drop(columns=['AUTORIZACAO', 'ESTABELECIMENTO', 'IDENTIFICACAO', 'EMPRESA', 'ESCOLARIDADE', 'OCUPACAO', 'RISCO_LOJISTA'])\n",
        "df_clean = df2.drop(columns=['TIPO_PESSOA'])"
      ],
      "execution_count": null,
      "outputs": []
    },
    {
      "cell_type": "code",
      "metadata": {
        "colab": {
          "base_uri": "https://localhost:8080/",
          "height": 400
        },
        "id": "HY3QSnWEJleA",
        "outputId": "e115517b-63f9-4292-d61c-d2883e80f35f"
      },
      "source": [
        "df_clean.head()"
      ],
      "execution_count": null,
      "outputs": [
        {
          "output_type": "execute_result",
          "data": {
            "text/html": [
              "<div>\n",
              "<style scoped>\n",
              "    .dataframe tbody tr th:only-of-type {\n",
              "        vertical-align: middle;\n",
              "    }\n",
              "\n",
              "    .dataframe tbody tr th {\n",
              "        vertical-align: top;\n",
              "    }\n",
              "\n",
              "    .dataframe thead th {\n",
              "        text-align: right;\n",
              "    }\n",
              "</style>\n",
              "<table border=\"1\" class=\"dataframe\">\n",
              "  <thead>\n",
              "    <tr style=\"text-align: right;\">\n",
              "      <th></th>\n",
              "      <th>COD_ASSOCIADO</th>\n",
              "      <th>EMPRESA</th>\n",
              "      <th>ESTABELECIMENTO</th>\n",
              "      <th>DATA_MOVIMENTO</th>\n",
              "      <th>HORA</th>\n",
              "      <th>VALOR</th>\n",
              "      <th>AUTORIZACAO</th>\n",
              "      <th>COD_ESTABELECIMENTO</th>\n",
              "      <th>LANCAMENTO</th>\n",
              "      <th>IDENTIFICACAO</th>\n",
              "      <th>PARCELAS</th>\n",
              "      <th>COD_EMPRESA</th>\n",
              "      <th>STATUS</th>\n",
              "      <th>LIMITE</th>\n",
              "      <th>DATA_PRIMEIRA_COMPRA</th>\n",
              "      <th>DATA_ULTIMA_COMPRA</th>\n",
              "      <th>CONSUMO</th>\n",
              "      <th>VIA_CARTAO</th>\n",
              "      <th>ADESAO</th>\n",
              "      <th>SEXO</th>\n",
              "      <th>ESTADO_CIVIL</th>\n",
              "      <th>NASCIMENTO</th>\n",
              "      <th>RENDA</th>\n",
              "      <th>FECHAMENTO</th>\n",
              "      <th>RENDA_COMPROVADA</th>\n",
              "      <th>DIA_VENCTO</th>\n",
              "      <th>ESCOLARIDADE</th>\n",
              "      <th>OCUPACAO</th>\n",
              "      <th>RISCO_LOJISTA</th>\n",
              "      <th>NOME</th>\n",
              "      <th>COD_ESTADO</th>\n",
              "      <th>ULTIMA_ATUALIZACAO</th>\n",
              "    </tr>\n",
              "  </thead>\n",
              "  <tbody>\n",
              "    <tr>\n",
              "      <th>0</th>\n",
              "      <td>4230899</td>\n",
              "      <td>DMCARD MASTERCARD</td>\n",
              "      <td>DMCARD MASTERCARD VITORIA</td>\n",
              "      <td>2021-03-10</td>\n",
              "      <td>15:29</td>\n",
              "      <td>188.00</td>\n",
              "      <td>55691728</td>\n",
              "      <td>10385.0</td>\n",
              "      <td>COMPRA NO PARCELADO</td>\n",
              "      <td>PAG*RaildaAbrantes</td>\n",
              "      <td>5</td>\n",
              "      <td>318</td>\n",
              "      <td>L</td>\n",
              "      <td>4000.0</td>\n",
              "      <td>2020-12-18</td>\n",
              "      <td>2021-04-28</td>\n",
              "      <td>3972.37</td>\n",
              "      <td>1</td>\n",
              "      <td>2020-11-01</td>\n",
              "      <td>F</td>\n",
              "      <td>OUTROS</td>\n",
              "      <td>1965-12-22</td>\n",
              "      <td>1000.0</td>\n",
              "      <td>8</td>\n",
              "      <td>S</td>\n",
              "      <td>23</td>\n",
              "      <td>NENHUMA</td>\n",
              "      <td>FUNCIONÁRIO REGISTRADO/ASSALARIADO</td>\n",
              "      <td>N</td>\n",
              "      <td>SAO MATEUS</td>\n",
              "      <td>ES</td>\n",
              "      <td>2020-11-01 05:02:51.177</td>\n",
              "    </tr>\n",
              "    <tr>\n",
              "      <th>2</th>\n",
              "      <td>4230899</td>\n",
              "      <td>DMCARD MASTERCARD</td>\n",
              "      <td>DMCARD MASTERCARD VITORIA</td>\n",
              "      <td>2020-12-19</td>\n",
              "      <td>10:07</td>\n",
              "      <td>123.77</td>\n",
              "      <td>1927289611</td>\n",
              "      <td>10385.0</td>\n",
              "      <td>COMPRA NO PARCELADO</td>\n",
              "      <td>MOVEIS LINHARES</td>\n",
              "      <td>10</td>\n",
              "      <td>318</td>\n",
              "      <td>L</td>\n",
              "      <td>4000.0</td>\n",
              "      <td>2020-12-18</td>\n",
              "      <td>2021-04-28</td>\n",
              "      <td>3972.37</td>\n",
              "      <td>1</td>\n",
              "      <td>2020-11-01</td>\n",
              "      <td>F</td>\n",
              "      <td>OUTROS</td>\n",
              "      <td>1965-12-22</td>\n",
              "      <td>1000.0</td>\n",
              "      <td>8</td>\n",
              "      <td>S</td>\n",
              "      <td>23</td>\n",
              "      <td>NENHUMA</td>\n",
              "      <td>FUNCIONÁRIO REGISTRADO/ASSALARIADO</td>\n",
              "      <td>N</td>\n",
              "      <td>SAO MATEUS</td>\n",
              "      <td>ES</td>\n",
              "      <td>2020-11-01 05:02:51.177</td>\n",
              "    </tr>\n",
              "    <tr>\n",
              "      <th>4</th>\n",
              "      <td>4230899</td>\n",
              "      <td>DMCARD MASTERCARD</td>\n",
              "      <td>DMCARD MASTERCARD VITORIA</td>\n",
              "      <td>2021-04-01</td>\n",
              "      <td>11:02</td>\n",
              "      <td>50.30</td>\n",
              "      <td>2023192187</td>\n",
              "      <td>10385.0</td>\n",
              "      <td>COMPRA NO PARCELADO</td>\n",
              "      <td>EXTRABOM SUPERMERCADOS</td>\n",
              "      <td>2</td>\n",
              "      <td>318</td>\n",
              "      <td>L</td>\n",
              "      <td>4000.0</td>\n",
              "      <td>2020-12-18</td>\n",
              "      <td>2021-04-28</td>\n",
              "      <td>3972.37</td>\n",
              "      <td>1</td>\n",
              "      <td>2020-11-01</td>\n",
              "      <td>F</td>\n",
              "      <td>OUTROS</td>\n",
              "      <td>1965-12-22</td>\n",
              "      <td>1000.0</td>\n",
              "      <td>8</td>\n",
              "      <td>S</td>\n",
              "      <td>23</td>\n",
              "      <td>NENHUMA</td>\n",
              "      <td>FUNCIONÁRIO REGISTRADO/ASSALARIADO</td>\n",
              "      <td>N</td>\n",
              "      <td>SAO MATEUS</td>\n",
              "      <td>ES</td>\n",
              "      <td>2020-11-01 05:02:51.177</td>\n",
              "    </tr>\n",
              "    <tr>\n",
              "      <th>6</th>\n",
              "      <td>4230899</td>\n",
              "      <td>DMCARD MASTERCARD</td>\n",
              "      <td>DMCARD MASTERCARD VITORIA</td>\n",
              "      <td>2021-04-28</td>\n",
              "      <td>17:34</td>\n",
              "      <td>51.41</td>\n",
              "      <td>4166399795</td>\n",
              "      <td>10385.0</td>\n",
              "      <td>COMPRA NO ROTATIVO</td>\n",
              "      <td>SUPERMERCADO YPE</td>\n",
              "      <td>1</td>\n",
              "      <td>318</td>\n",
              "      <td>L</td>\n",
              "      <td>4000.0</td>\n",
              "      <td>2020-12-18</td>\n",
              "      <td>2021-04-28</td>\n",
              "      <td>3972.37</td>\n",
              "      <td>1</td>\n",
              "      <td>2020-11-01</td>\n",
              "      <td>F</td>\n",
              "      <td>OUTROS</td>\n",
              "      <td>1965-12-22</td>\n",
              "      <td>1000.0</td>\n",
              "      <td>8</td>\n",
              "      <td>S</td>\n",
              "      <td>23</td>\n",
              "      <td>NENHUMA</td>\n",
              "      <td>FUNCIONÁRIO REGISTRADO/ASSALARIADO</td>\n",
              "      <td>N</td>\n",
              "      <td>SAO MATEUS</td>\n",
              "      <td>ES</td>\n",
              "      <td>2020-11-01 05:02:51.177</td>\n",
              "    </tr>\n",
              "    <tr>\n",
              "      <th>8</th>\n",
              "      <td>4230899</td>\n",
              "      <td>DMCARD MASTERCARD</td>\n",
              "      <td>DMCARD MASTERCARD VITORIA</td>\n",
              "      <td>2021-01-29</td>\n",
              "      <td>15:46</td>\n",
              "      <td>179.80</td>\n",
              "      <td>5995589954</td>\n",
              "      <td>10385.0</td>\n",
              "      <td>COMPRA NO PARCELADO</td>\n",
              "      <td>CASAS BAHIA</td>\n",
              "      <td>5</td>\n",
              "      <td>318</td>\n",
              "      <td>L</td>\n",
              "      <td>4000.0</td>\n",
              "      <td>2020-12-18</td>\n",
              "      <td>2021-04-28</td>\n",
              "      <td>3972.37</td>\n",
              "      <td>1</td>\n",
              "      <td>2020-11-01</td>\n",
              "      <td>F</td>\n",
              "      <td>OUTROS</td>\n",
              "      <td>1965-12-22</td>\n",
              "      <td>1000.0</td>\n",
              "      <td>8</td>\n",
              "      <td>S</td>\n",
              "      <td>23</td>\n",
              "      <td>NENHUMA</td>\n",
              "      <td>FUNCIONÁRIO REGISTRADO/ASSALARIADO</td>\n",
              "      <td>N</td>\n",
              "      <td>SAO MATEUS</td>\n",
              "      <td>ES</td>\n",
              "      <td>2020-11-01 05:02:51.177</td>\n",
              "    </tr>\n",
              "  </tbody>\n",
              "</table>\n",
              "</div>"
            ],
            "text/plain": [
              "   COD_ASSOCIADO            EMPRESA  ... COD_ESTADO      ULTIMA_ATUALIZACAO\n",
              "0        4230899  DMCARD MASTERCARD  ...         ES 2020-11-01 05:02:51.177\n",
              "2        4230899  DMCARD MASTERCARD  ...         ES 2020-11-01 05:02:51.177\n",
              "4        4230899  DMCARD MASTERCARD  ...         ES 2020-11-01 05:02:51.177\n",
              "6        4230899  DMCARD MASTERCARD  ...         ES 2020-11-01 05:02:51.177\n",
              "8        4230899  DMCARD MASTERCARD  ...         ES 2020-11-01 05:02:51.177\n",
              "\n",
              "[5 rows x 32 columns]"
            ]
          },
          "metadata": {
            "tags": []
          },
          "execution_count": 35
        }
      ]
    },
    {
      "cell_type": "code",
      "metadata": {
        "id": "9frW-MutKKr2"
      },
      "source": [
        "# Eliminando valores inuteis relativos ao LANCAMENTO\n",
        "\n",
        "LISTA_LANCAMENTO = ['COMPRA NO ROTATIVO','COMPRA NO PARCELADO','ESTORNO COMPRA ROTATIVO','ESTORNO COMPRA NO PARCELADO','IOF INTERNACIONAL']\n",
        "\n",
        "df_clean['LANCAMENTO'] = df_clean['LANCAMENTO'].apply(lambda x: x if x in LISTA_LANCAMENTO \n",
        "                                          else 'OUTROS')"
      ],
      "execution_count": null,
      "outputs": []
    },
    {
      "cell_type": "code",
      "metadata": {
        "id": "x8IMUG4wB61A"
      },
      "source": [
        "# Fatorizando colunas com variáveis categoricas (\"Binarizando\")\n",
        "\n",
        "lancamento_encoded, lancamento_cat = df_clean['LANCAMENTO'].factorize()\n",
        "status_encoded, status_cat = df_clean['STATUS'].factorize()\n",
        "sexo_encoded, sexo_cat = df_clean['SEXO'].factorize()\n",
        "estado_civil_encoded, estado_civil_cat = df_clean['ESTADO_CIVIL'].factorize()\n",
        "cidade_encoded, cidade_cat = df_clean['NOME'].factorize()\n",
        "estado_encoded, estado_cat = df_clean['COD_ESTADO'].factorize()\n",
        "renda_encoded, renda_cat = df_clean['RENDA_COMPROVADA'].factorize()"
      ],
      "execution_count": null,
      "outputs": []
    },
    {
      "cell_type": "code",
      "metadata": {
        "id": "ocpEcq3hPHF2"
      },
      "source": [
        "# Substituindo valores fatorizados nas colunas\n",
        "\n",
        "df_clean['LANCAMENTO'] = lancamento_encoded\n",
        "df_clean['STATUS'] = status_encoded\n",
        "df_clean['SEXO'] = sexo_encoded\n",
        "df_clean['ESTADO_CIVIL'] = estado_civil_encoded\n",
        "df_clean['NOME'] = cidade_encoded\n",
        "df_clean['COD_ESTADO'] = estado_encoded\n",
        "df_clean['RENDA_COMPROVADA'] = renda_encoded"
      ],
      "execution_count": null,
      "outputs": []
    },
    {
      "cell_type": "markdown",
      "metadata": {
        "id": "Ikeus-u22G0J"
      },
      "source": [
        "## Matriz de correlação e Arvore de Decisão"
      ]
    },
    {
      "cell_type": "code",
      "metadata": {
        "colab": {
          "base_uri": "https://localhost:8080/",
          "height": 234
        },
        "id": "_GZfl29ysz5w",
        "outputId": "d17eebce-67f0-43cb-8ef8-a9e5360a7ad3"
      },
      "source": [
        "ax = sns.heatmap(\n",
        "    corrMatrix, \n",
        "    vmin=-1, vmax=1, center=0,\n",
        "    cmap=sns.diverging_palette(20, 220, n=200),\n",
        "    square=True\n",
        ")\n",
        "ax.set_xticklabels(\n",
        "    ax.get_xticklabels(),\n",
        "    rotation=45,\n",
        "    horizontalalignment='right'\n",
        ");"
      ],
      "execution_count": null,
      "outputs": [
        {
          "output_type": "error",
          "ename": "NameError",
          "evalue": "ignored",
          "traceback": [
            "\u001b[0;31m---------------------------------------------------------------------------\u001b[0m",
            "\u001b[0;31mNameError\u001b[0m                                 Traceback (most recent call last)",
            "\u001b[0;32m<ipython-input-39-aab9c1978a78>\u001b[0m in \u001b[0;36m<module>\u001b[0;34m()\u001b[0m\n\u001b[1;32m      1\u001b[0m ax = sns.heatmap(\n\u001b[0;32m----> 2\u001b[0;31m     \u001b[0mcorrMatrix\u001b[0m\u001b[0;34m,\u001b[0m\u001b[0;34m\u001b[0m\u001b[0;34m\u001b[0m\u001b[0m\n\u001b[0m\u001b[1;32m      3\u001b[0m     \u001b[0mvmin\u001b[0m\u001b[0;34m=\u001b[0m\u001b[0;34m-\u001b[0m\u001b[0;36m1\u001b[0m\u001b[0;34m,\u001b[0m \u001b[0mvmax\u001b[0m\u001b[0;34m=\u001b[0m\u001b[0;36m1\u001b[0m\u001b[0;34m,\u001b[0m \u001b[0mcenter\u001b[0m\u001b[0;34m=\u001b[0m\u001b[0;36m0\u001b[0m\u001b[0;34m,\u001b[0m\u001b[0;34m\u001b[0m\u001b[0;34m\u001b[0m\u001b[0m\n\u001b[1;32m      4\u001b[0m     \u001b[0mcmap\u001b[0m\u001b[0;34m=\u001b[0m\u001b[0msns\u001b[0m\u001b[0;34m.\u001b[0m\u001b[0mdiverging_palette\u001b[0m\u001b[0;34m(\u001b[0m\u001b[0;36m20\u001b[0m\u001b[0;34m,\u001b[0m \u001b[0;36m220\u001b[0m\u001b[0;34m,\u001b[0m \u001b[0mn\u001b[0m\u001b[0;34m=\u001b[0m\u001b[0;36m200\u001b[0m\u001b[0;34m)\u001b[0m\u001b[0;34m,\u001b[0m\u001b[0;34m\u001b[0m\u001b[0;34m\u001b[0m\u001b[0m\n\u001b[1;32m      5\u001b[0m     \u001b[0msquare\u001b[0m\u001b[0;34m=\u001b[0m\u001b[0;32mTrue\u001b[0m\u001b[0;34m\u001b[0m\u001b[0;34m\u001b[0m\u001b[0m\n",
            "\u001b[0;31mNameError\u001b[0m: name 'corrMatrix' is not defined"
          ]
        }
      ]
    },
    {
      "cell_type": "code",
      "metadata": {
        "id": "hOYtG9Qxofio"
      },
      "source": [
        "feature_cols = ['VALOR','LANCAMENTO','PARCELAS','LIMITE','CONSUMO','VIA_CARTAO','SEXO','ESTADO_CIVIL','RENDA','FECHAMENTO','RENDA_COMPROVADA','DIA_VENCTO','NOME','COD_ESTADO']\n",
        "X = df_clean[feature_cols]\n",
        "y = df_clean['STATUS']\n"
      ],
      "execution_count": null,
      "outputs": []
    },
    {
      "cell_type": "code",
      "metadata": {
        "id": "-fDhb6-6t1cw"
      },
      "source": [
        "X_train, X_test, y_train, y_test = train_test_split(X, y, test_size=0.30, random_state=1)"
      ],
      "execution_count": null,
      "outputs": []
    },
    {
      "cell_type": "code",
      "metadata": {
        "id": "NxLla6uIzdBS"
      },
      "source": [
        "clf = DecisionTreeClassifier()\n",
        "clf = clf.fit(X_train,y_train)\n",
        "y_pred = clf.predict(X_test)\n"
      ],
      "execution_count": null,
      "outputs": []
    },
    {
      "cell_type": "code",
      "metadata": {
        "id": "HJjrRtXmzk7B"
      },
      "source": [
        "print(\"Accuracy:\",metrics.accuracy_score(y_test, y_pred))\n"
      ],
      "execution_count": null,
      "outputs": []
    },
    {
      "cell_type": "code",
      "metadata": {
        "id": "77tvM_NR0G2h"
      },
      "source": [
        "from sklearn.metrics import confusion_matrix\n",
        "\n",
        "confusion_matrix(y_test, y_pred)"
      ],
      "execution_count": null,
      "outputs": []
    },
    {
      "cell_type": "code",
      "metadata": {
        "id": "l70dUHedSOfj"
      },
      "source": [
        "pip install azureml-core"
      ],
      "execution_count": null,
      "outputs": []
    },
    {
      "cell_type": "code",
      "metadata": {
        "id": "11VIkJZjU6kA"
      },
      "source": [
        "pip install azureml-train"
      ],
      "execution_count": null,
      "outputs": []
    },
    {
      "cell_type": "code",
      "metadata": {
        "id": "NNpv-_D3VzWJ"
      },
      "source": [
        "pip install azureml-sdk\n"
      ],
      "execution_count": null,
      "outputs": []
    },
    {
      "cell_type": "code",
      "metadata": {
        "id": "AR0K1TmWWOEm"
      },
      "source": [
        "pip install azureml-interpret"
      ],
      "execution_count": null,
      "outputs": []
    },
    {
      "cell_type": "code",
      "metadata": {
        "id": "60voFTLb-jg0"
      },
      "source": [
        "import logging\n",
        "import azureml.core\n",
        "from azureml.core.experiment import Experiment\n",
        "from azureml.core.workspace import Workspace\n",
        "from azureml.core.dataset import Dataset\n",
        "from azureml.train.automl import AutoMLConfig\n",
        "from azureml.interpret import ExplanationClient"
      ],
      "execution_count": null,
      "outputs": []
    },
    {
      "cell_type": "code",
      "metadata": {
        "id": "k8Lq-1FQRNak"
      },
      "source": [
        "sudo pip install autosklearn"
      ],
      "execution_count": null,
      "outputs": []
    },
    {
      "cell_type": "code",
      "metadata": {
        "id": "F686og-oVmId"
      },
      "source": [
        ""
      ],
      "execution_count": null,
      "outputs": []
    }
  ]
}
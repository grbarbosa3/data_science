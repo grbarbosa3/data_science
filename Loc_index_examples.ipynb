{
  "nbformat": 4,
  "nbformat_minor": 0,
  "metadata": {
    "colab": {
      "name": "Loc_index_examples.ipynb",
      "provenance": [],
      "authorship_tag": "ABX9TyONPwd0inUy2Ig0b3j0g688",
      "include_colab_link": true
    },
    "kernelspec": {
      "name": "python3",
      "display_name": "Python 3"
    }
  },
  "cells": [
    {
      "cell_type": "markdown",
      "metadata": {
        "id": "view-in-github",
        "colab_type": "text"
      },
      "source": [
        "<a href=\"https://colab.research.google.com/github/grbarbosa3/data_science/blob/master/Loc_index_examples.ipynb\" target=\"_parent\"><img src=\"https://colab.research.google.com/assets/colab-badge.svg\" alt=\"Open In Colab\"/></a>"
      ]
    },
    {
      "cell_type": "code",
      "metadata": {
        "id": "6QRgGM8WDr9u"
      },
      "source": [
        "import pandas as pd\n",
        "import numpy as np\n",
        "import matplotlib\n",
        "import matplotlib.pyplot as plt\n",
        "\n",
        "%matplotlib inline\n"
      ],
      "execution_count": 1,
      "outputs": []
    },
    {
      "cell_type": "code",
      "metadata": {
        "id": "VggwWy9aEBvi"
      },
      "source": [
        "df_planets = pd.read_csv(\"/content/Planets.xlsx - Export.csv\")"
      ],
      "execution_count": 10,
      "outputs": []
    },
    {
      "cell_type": "code",
      "metadata": {
        "colab": {
          "base_uri": "https://localhost:8080/",
          "height": 367
        },
        "id": "c53EjqdXEF5Q",
        "outputId": "47fd39b1-f4b8-4684-b57c-6435d3b2579c"
      },
      "source": [
        "df_planets"
      ],
      "execution_count": 11,
      "outputs": [
        {
          "output_type": "execute_result",
          "data": {
            "text/html": [
              "<div>\n",
              "<style scoped>\n",
              "    .dataframe tbody tr th:only-of-type {\n",
              "        vertical-align: middle;\n",
              "    }\n",
              "\n",
              "    .dataframe tbody tr th {\n",
              "        vertical-align: top;\n",
              "    }\n",
              "\n",
              "    .dataframe thead th {\n",
              "        text-align: right;\n",
              "    }\n",
              "</style>\n",
              "<table border=\"1\" class=\"dataframe\">\n",
              "  <thead>\n",
              "    <tr style=\"text-align: right;\">\n",
              "      <th></th>\n",
              "      <th>Planet</th>\n",
              "      <th>Mass</th>\n",
              "      <th>Diameter</th>\n",
              "      <th>DayLength</th>\n",
              "      <th>SunDistance</th>\n",
              "      <th>OrbitPeriod</th>\n",
              "      <th>OrbitVelocity</th>\n",
              "      <th>MeanTemperature</th>\n",
              "      <th>SurfacePressure</th>\n",
              "      <th>Moons</th>\n",
              "      <th>Rings</th>\n",
              "      <th>MagneticField</th>\n",
              "      <th>FirstVisited</th>\n",
              "      <th>FirstMission</th>\n",
              "    </tr>\n",
              "  </thead>\n",
              "  <tbody>\n",
              "    <tr>\n",
              "      <th>0</th>\n",
              "      <td>MERCURY</td>\n",
              "      <td>0.3300</td>\n",
              "      <td>4879</td>\n",
              "      <td>4222.6</td>\n",
              "      <td>57.9</td>\n",
              "      <td>88</td>\n",
              "      <td>47.4</td>\n",
              "      <td>167</td>\n",
              "      <td>0.00000</td>\n",
              "      <td>0</td>\n",
              "      <td>No</td>\n",
              "      <td>Yes</td>\n",
              "      <td>1974-03-29</td>\n",
              "      <td>Mariner 10</td>\n",
              "    </tr>\n",
              "    <tr>\n",
              "      <th>1</th>\n",
              "      <td>VENUS</td>\n",
              "      <td>4.8700</td>\n",
              "      <td>12,104</td>\n",
              "      <td>2802.0</td>\n",
              "      <td>108.2</td>\n",
              "      <td>224.7</td>\n",
              "      <td>35.0</td>\n",
              "      <td>464</td>\n",
              "      <td>92.00000</td>\n",
              "      <td>0</td>\n",
              "      <td>No</td>\n",
              "      <td>No</td>\n",
              "      <td>1962-08-27</td>\n",
              "      <td>Mariner 2</td>\n",
              "    </tr>\n",
              "    <tr>\n",
              "      <th>2</th>\n",
              "      <td>EARTH</td>\n",
              "      <td>5.9700</td>\n",
              "      <td>12,756</td>\n",
              "      <td>24.0</td>\n",
              "      <td>149.6</td>\n",
              "      <td>365.2</td>\n",
              "      <td>29.8</td>\n",
              "      <td>15</td>\n",
              "      <td>1.00000</td>\n",
              "      <td>1</td>\n",
              "      <td>No</td>\n",
              "      <td>Yes</td>\n",
              "      <td>NaN</td>\n",
              "      <td>NaN</td>\n",
              "    </tr>\n",
              "    <tr>\n",
              "      <th>3</th>\n",
              "      <td>MOON</td>\n",
              "      <td>0.0730</td>\n",
              "      <td>3475</td>\n",
              "      <td>708.7</td>\n",
              "      <td>NaN</td>\n",
              "      <td>27.3</td>\n",
              "      <td>1.0</td>\n",
              "      <td>-20</td>\n",
              "      <td>0.00000</td>\n",
              "      <td>0</td>\n",
              "      <td>No</td>\n",
              "      <td>No</td>\n",
              "      <td>1959-09-12</td>\n",
              "      <td>Luna 2</td>\n",
              "    </tr>\n",
              "    <tr>\n",
              "      <th>4</th>\n",
              "      <td>MARS</td>\n",
              "      <td>0.6420</td>\n",
              "      <td>6792</td>\n",
              "      <td>24.7</td>\n",
              "      <td>227.9</td>\n",
              "      <td>687</td>\n",
              "      <td>24.1</td>\n",
              "      <td>-65</td>\n",
              "      <td>0.01000</td>\n",
              "      <td>2</td>\n",
              "      <td>No</td>\n",
              "      <td>No</td>\n",
              "      <td>1965-07-15</td>\n",
              "      <td>Mariner 4</td>\n",
              "    </tr>\n",
              "    <tr>\n",
              "      <th>5</th>\n",
              "      <td>JUPITER</td>\n",
              "      <td>1898.0000</td>\n",
              "      <td>142,984</td>\n",
              "      <td>9.9</td>\n",
              "      <td>778.6</td>\n",
              "      <td>4331</td>\n",
              "      <td>13.1</td>\n",
              "      <td>-110</td>\n",
              "      <td>NaN</td>\n",
              "      <td>67</td>\n",
              "      <td>Yes</td>\n",
              "      <td>Yes</td>\n",
              "      <td>1973-12-04</td>\n",
              "      <td>Pioneer 10</td>\n",
              "    </tr>\n",
              "    <tr>\n",
              "      <th>6</th>\n",
              "      <td>SATURN</td>\n",
              "      <td>568.0000</td>\n",
              "      <td>120,536</td>\n",
              "      <td>10.7</td>\n",
              "      <td>1433.5</td>\n",
              "      <td>10,747</td>\n",
              "      <td>9.7</td>\n",
              "      <td>-140</td>\n",
              "      <td>NaN</td>\n",
              "      <td>62</td>\n",
              "      <td>Yes</td>\n",
              "      <td>Yes</td>\n",
              "      <td>1979-09-01</td>\n",
              "      <td>Pioneer 11</td>\n",
              "    </tr>\n",
              "    <tr>\n",
              "      <th>7</th>\n",
              "      <td>URANUS</td>\n",
              "      <td>86.8000</td>\n",
              "      <td>51,118</td>\n",
              "      <td>17.2</td>\n",
              "      <td>2872.5</td>\n",
              "      <td>30,589</td>\n",
              "      <td>6.8</td>\n",
              "      <td>-195</td>\n",
              "      <td>NaN</td>\n",
              "      <td>27</td>\n",
              "      <td>Yes</td>\n",
              "      <td>Yes</td>\n",
              "      <td>1986-01-24</td>\n",
              "      <td>Voyager 2</td>\n",
              "    </tr>\n",
              "    <tr>\n",
              "      <th>8</th>\n",
              "      <td>NEPTUNE</td>\n",
              "      <td>102.0000</td>\n",
              "      <td>49,528</td>\n",
              "      <td>16.1</td>\n",
              "      <td>4495.1</td>\n",
              "      <td>59,800</td>\n",
              "      <td>5.4</td>\n",
              "      <td>-200</td>\n",
              "      <td>NaN</td>\n",
              "      <td>14</td>\n",
              "      <td>Yes</td>\n",
              "      <td>Yes</td>\n",
              "      <td>1989-08-25</td>\n",
              "      <td>Voyager 2</td>\n",
              "    </tr>\n",
              "    <tr>\n",
              "      <th>9</th>\n",
              "      <td>PLUTO</td>\n",
              "      <td>0.0146</td>\n",
              "      <td>2370</td>\n",
              "      <td>153.3</td>\n",
              "      <td>5906.4</td>\n",
              "      <td>90,560</td>\n",
              "      <td>4.7</td>\n",
              "      <td>-225</td>\n",
              "      <td>0.00001</td>\n",
              "      <td>5</td>\n",
              "      <td>No</td>\n",
              "      <td>NaN</td>\n",
              "      <td>2015-07-14</td>\n",
              "      <td>New Horizons</td>\n",
              "    </tr>\n",
              "  </tbody>\n",
              "</table>\n",
              "</div>"
            ],
            "text/plain": [
              "    Planet       Mass Diameter  ...  MagneticField  FirstVisited  FirstMission\n",
              "0  MERCURY     0.3300     4879  ...            Yes    1974-03-29    Mariner 10\n",
              "1    VENUS     4.8700   12,104  ...             No    1962-08-27     Mariner 2\n",
              "2    EARTH     5.9700   12,756  ...            Yes           NaN           NaN\n",
              "3     MOON     0.0730     3475  ...             No    1959-09-12        Luna 2\n",
              "4     MARS     0.6420     6792  ...             No    1965-07-15     Mariner 4\n",
              "5  JUPITER  1898.0000  142,984  ...            Yes    1973-12-04    Pioneer 10\n",
              "6   SATURN   568.0000  120,536  ...            Yes    1979-09-01    Pioneer 11\n",
              "7   URANUS    86.8000   51,118  ...            Yes    1986-01-24     Voyager 2\n",
              "8  NEPTUNE   102.0000   49,528  ...            Yes    1989-08-25     Voyager 2\n",
              "9    PLUTO     0.0146     2370  ...            NaN    2015-07-14  New Horizons\n",
              "\n",
              "[10 rows x 14 columns]"
            ]
          },
          "metadata": {
            "tags": []
          },
          "execution_count": 11
        }
      ]
    },
    {
      "cell_type": "code",
      "metadata": {
        "id": "yUnabW3LEGlH"
      },
      "source": [
        "planets_clean = pd.read_csv(\"/content/Planets.xlsx - Export.csv\",usecols=[0,1,2,3])"
      ],
      "execution_count": 7,
      "outputs": []
    },
    {
      "cell_type": "code",
      "metadata": {
        "colab": {
          "base_uri": "https://localhost:8080/",
          "height": 347
        },
        "id": "aUUd3P-iG1Jo",
        "outputId": "59742f76-b60f-4a56-93b7-2a1918f7d0d8"
      },
      "source": [
        "planets_clean"
      ],
      "execution_count": 8,
      "outputs": [
        {
          "output_type": "execute_result",
          "data": {
            "text/html": [
              "<div>\n",
              "<style scoped>\n",
              "    .dataframe tbody tr th:only-of-type {\n",
              "        vertical-align: middle;\n",
              "    }\n",
              "\n",
              "    .dataframe tbody tr th {\n",
              "        vertical-align: top;\n",
              "    }\n",
              "\n",
              "    .dataframe thead th {\n",
              "        text-align: right;\n",
              "    }\n",
              "</style>\n",
              "<table border=\"1\" class=\"dataframe\">\n",
              "  <thead>\n",
              "    <tr style=\"text-align: right;\">\n",
              "      <th></th>\n",
              "      <th>Planet</th>\n",
              "      <th>Mass</th>\n",
              "      <th>Diameter</th>\n",
              "      <th>DayLength</th>\n",
              "    </tr>\n",
              "  </thead>\n",
              "  <tbody>\n",
              "    <tr>\n",
              "      <th>0</th>\n",
              "      <td>MERCURY</td>\n",
              "      <td>0.3300</td>\n",
              "      <td>4879</td>\n",
              "      <td>4222.6</td>\n",
              "    </tr>\n",
              "    <tr>\n",
              "      <th>1</th>\n",
              "      <td>VENUS</td>\n",
              "      <td>4.8700</td>\n",
              "      <td>12,104</td>\n",
              "      <td>2802.0</td>\n",
              "    </tr>\n",
              "    <tr>\n",
              "      <th>2</th>\n",
              "      <td>EARTH</td>\n",
              "      <td>5.9700</td>\n",
              "      <td>12,756</td>\n",
              "      <td>24.0</td>\n",
              "    </tr>\n",
              "    <tr>\n",
              "      <th>3</th>\n",
              "      <td>MOON</td>\n",
              "      <td>0.0730</td>\n",
              "      <td>3475</td>\n",
              "      <td>708.7</td>\n",
              "    </tr>\n",
              "    <tr>\n",
              "      <th>4</th>\n",
              "      <td>MARS</td>\n",
              "      <td>0.6420</td>\n",
              "      <td>6792</td>\n",
              "      <td>24.7</td>\n",
              "    </tr>\n",
              "    <tr>\n",
              "      <th>5</th>\n",
              "      <td>JUPITER</td>\n",
              "      <td>1898.0000</td>\n",
              "      <td>142,984</td>\n",
              "      <td>9.9</td>\n",
              "    </tr>\n",
              "    <tr>\n",
              "      <th>6</th>\n",
              "      <td>SATURN</td>\n",
              "      <td>568.0000</td>\n",
              "      <td>120,536</td>\n",
              "      <td>10.7</td>\n",
              "    </tr>\n",
              "    <tr>\n",
              "      <th>7</th>\n",
              "      <td>URANUS</td>\n",
              "      <td>86.8000</td>\n",
              "      <td>51,118</td>\n",
              "      <td>17.2</td>\n",
              "    </tr>\n",
              "    <tr>\n",
              "      <th>8</th>\n",
              "      <td>NEPTUNE</td>\n",
              "      <td>102.0000</td>\n",
              "      <td>49,528</td>\n",
              "      <td>16.1</td>\n",
              "    </tr>\n",
              "    <tr>\n",
              "      <th>9</th>\n",
              "      <td>PLUTO</td>\n",
              "      <td>0.0146</td>\n",
              "      <td>2370</td>\n",
              "      <td>153.3</td>\n",
              "    </tr>\n",
              "  </tbody>\n",
              "</table>\n",
              "</div>"
            ],
            "text/plain": [
              "    Planet       Mass Diameter  DayLength\n",
              "0  MERCURY     0.3300     4879     4222.6\n",
              "1    VENUS     4.8700   12,104     2802.0\n",
              "2    EARTH     5.9700   12,756       24.0\n",
              "3     MOON     0.0730     3475      708.7\n",
              "4     MARS     0.6420     6792       24.7\n",
              "5  JUPITER  1898.0000  142,984        9.9\n",
              "6   SATURN   568.0000  120,536       10.7\n",
              "7   URANUS    86.8000   51,118       17.2\n",
              "8  NEPTUNE   102.0000   49,528       16.1\n",
              "9    PLUTO     0.0146     2370      153.3"
            ]
          },
          "metadata": {
            "tags": []
          },
          "execution_count": 8
        }
      ]
    },
    {
      "cell_type": "code",
      "metadata": {
        "colab": {
          "base_uri": "https://localhost:8080/"
        },
        "id": "4mMTndXzG4nv",
        "outputId": "bcf4f790-0d03-4ab7-abf8-a1d0b8ea98d8"
      },
      "source": [
        "planets_clean[\"Mass\"]"
      ],
      "execution_count": 12,
      "outputs": [
        {
          "output_type": "execute_result",
          "data": {
            "text/plain": [
              "0       0.3300\n",
              "1       4.8700\n",
              "2       5.9700\n",
              "3       0.0730\n",
              "4       0.6420\n",
              "5    1898.0000\n",
              "6     568.0000\n",
              "7      86.8000\n",
              "8     102.0000\n",
              "9       0.0146\n",
              "Name: Mass, dtype: float64"
            ]
          },
          "metadata": {
            "tags": []
          },
          "execution_count": 12
        }
      ]
    },
    {
      "cell_type": "code",
      "metadata": {
        "colab": {
          "base_uri": "https://localhost:8080/"
        },
        "id": "ZyvEro25HM0n",
        "outputId": "c23c5c36-1539-418a-d96f-5b1ddb056dd7"
      },
      "source": [
        "planets_clean.Mass"
      ],
      "execution_count": 13,
      "outputs": [
        {
          "output_type": "execute_result",
          "data": {
            "text/plain": [
              "0       0.3300\n",
              "1       4.8700\n",
              "2       5.9700\n",
              "3       0.0730\n",
              "4       0.6420\n",
              "5    1898.0000\n",
              "6     568.0000\n",
              "7      86.8000\n",
              "8     102.0000\n",
              "9       0.0146\n",
              "Name: Mass, dtype: float64"
            ]
          },
          "metadata": {
            "tags": []
          },
          "execution_count": 13
        }
      ]
    },
    {
      "cell_type": "code",
      "metadata": {
        "colab": {
          "base_uri": "https://localhost:8080/"
        },
        "id": "Wytuw0y2HdG3",
        "outputId": "37c9af64-0c49-4a26-ced6-88238871fc4c"
      },
      "source": [
        "planets_clean.index"
      ],
      "execution_count": 14,
      "outputs": [
        {
          "output_type": "execute_result",
          "data": {
            "text/plain": [
              "RangeIndex(start=0, stop=10, step=1)"
            ]
          },
          "metadata": {
            "tags": []
          },
          "execution_count": 14
        }
      ]
    },
    {
      "cell_type": "code",
      "metadata": {
        "colab": {
          "base_uri": "https://localhost:8080/"
        },
        "id": "H8phBv8yHnNf",
        "outputId": "cf2e1832-f759-4225-8e15-f508d5ff782c"
      },
      "source": [
        "planets_clean.loc[0]"
      ],
      "execution_count": 15,
      "outputs": [
        {
          "output_type": "execute_result",
          "data": {
            "text/plain": [
              "Planet       MERCURY\n",
              "Mass            0.33\n",
              "Diameter        4879\n",
              "DayLength     4222.6\n",
              "Name: 0, dtype: object"
            ]
          },
          "metadata": {
            "tags": []
          },
          "execution_count": 15
        }
      ]
    },
    {
      "cell_type": "code",
      "metadata": {
        "colab": {
          "base_uri": "https://localhost:8080/"
        },
        "id": "Jj4hneJFH-23",
        "outputId": "eae7aa5e-21b3-4a75-be6f-2d5251a755a3"
      },
      "source": [
        "planets_clean.loc[5]"
      ],
      "execution_count": 16,
      "outputs": [
        {
          "output_type": "execute_result",
          "data": {
            "text/plain": [
              "Planet       JUPITER\n",
              "Mass            1898\n",
              "Diameter     142,984\n",
              "DayLength        9.9\n",
              "Name: 5, dtype: object"
            ]
          },
          "metadata": {
            "tags": []
          },
          "execution_count": 16
        }
      ]
    },
    {
      "cell_type": "code",
      "metadata": {
        "colab": {
          "base_uri": "https://localhost:8080/"
        },
        "id": "QYcVSTRjIBwn",
        "outputId": "d7187f21-95ae-4c9a-e776-eca790f4c8ce"
      },
      "source": [
        "df_planets.loc[5]"
      ],
      "execution_count": 17,
      "outputs": [
        {
          "output_type": "execute_result",
          "data": {
            "text/plain": [
              "Planet                JUPITER\n",
              "Mass                     1898\n",
              "Diameter              142,984\n",
              "DayLength                 9.9\n",
              "SunDistance             778.6\n",
              "OrbitPeriod              4331\n",
              "OrbitVelocity            13.1\n",
              "MeanTemperature          -110\n",
              "SurfacePressure           NaN\n",
              "Moons                      67\n",
              "Rings                     Yes\n",
              "MagneticField             Yes\n",
              "FirstVisited       1973-12-04\n",
              "FirstMission       Pioneer 10\n",
              "Name: 5, dtype: object"
            ]
          },
          "metadata": {
            "tags": []
          },
          "execution_count": 17
        }
      ]
    },
    {
      "cell_type": "code",
      "metadata": {
        "colab": {
          "base_uri": "https://localhost:8080/",
          "height": 377
        },
        "id": "jw3xSHX5KN0O",
        "outputId": "bf4577fd-1f04-4f01-d038-99be5ca7821c"
      },
      "source": [
        "planets_clean"
      ],
      "execution_count": 27,
      "outputs": [
        {
          "output_type": "execute_result",
          "data": {
            "text/html": [
              "<div>\n",
              "<style scoped>\n",
              "    .dataframe tbody tr th:only-of-type {\n",
              "        vertical-align: middle;\n",
              "    }\n",
              "\n",
              "    .dataframe tbody tr th {\n",
              "        vertical-align: top;\n",
              "    }\n",
              "\n",
              "    .dataframe thead th {\n",
              "        text-align: right;\n",
              "    }\n",
              "</style>\n",
              "<table border=\"1\" class=\"dataframe\">\n",
              "  <thead>\n",
              "    <tr style=\"text-align: right;\">\n",
              "      <th></th>\n",
              "      <th>Mass</th>\n",
              "      <th>Diameter</th>\n",
              "      <th>DayLength</th>\n",
              "    </tr>\n",
              "    <tr>\n",
              "      <th>Planet</th>\n",
              "      <th></th>\n",
              "      <th></th>\n",
              "      <th></th>\n",
              "    </tr>\n",
              "  </thead>\n",
              "  <tbody>\n",
              "    <tr>\n",
              "      <th>MERCURY</th>\n",
              "      <td>0.3300</td>\n",
              "      <td>4879</td>\n",
              "      <td>4222.6</td>\n",
              "    </tr>\n",
              "    <tr>\n",
              "      <th>VENUS</th>\n",
              "      <td>4.8700</td>\n",
              "      <td>12,104</td>\n",
              "      <td>2802.0</td>\n",
              "    </tr>\n",
              "    <tr>\n",
              "      <th>EARTH</th>\n",
              "      <td>5.9700</td>\n",
              "      <td>12,756</td>\n",
              "      <td>24.0</td>\n",
              "    </tr>\n",
              "    <tr>\n",
              "      <th>MOON</th>\n",
              "      <td>0.0730</td>\n",
              "      <td>3475</td>\n",
              "      <td>708.7</td>\n",
              "    </tr>\n",
              "    <tr>\n",
              "      <th>MARS</th>\n",
              "      <td>0.6420</td>\n",
              "      <td>6792</td>\n",
              "      <td>24.7</td>\n",
              "    </tr>\n",
              "    <tr>\n",
              "      <th>JUPITER</th>\n",
              "      <td>1898.0000</td>\n",
              "      <td>142,984</td>\n",
              "      <td>9.9</td>\n",
              "    </tr>\n",
              "    <tr>\n",
              "      <th>SATURN</th>\n",
              "      <td>568.0000</td>\n",
              "      <td>120,536</td>\n",
              "      <td>10.7</td>\n",
              "    </tr>\n",
              "    <tr>\n",
              "      <th>URANUS</th>\n",
              "      <td>86.8000</td>\n",
              "      <td>51,118</td>\n",
              "      <td>17.2</td>\n",
              "    </tr>\n",
              "    <tr>\n",
              "      <th>NEPTUNE</th>\n",
              "      <td>102.0000</td>\n",
              "      <td>49,528</td>\n",
              "      <td>16.1</td>\n",
              "    </tr>\n",
              "    <tr>\n",
              "      <th>PLUTO</th>\n",
              "      <td>0.0146</td>\n",
              "      <td>2370</td>\n",
              "      <td>153.3</td>\n",
              "    </tr>\n",
              "  </tbody>\n",
              "</table>\n",
              "</div>"
            ],
            "text/plain": [
              "              Mass Diameter  DayLength\n",
              "Planet                                \n",
              "MERCURY     0.3300     4879     4222.6\n",
              "VENUS       4.8700   12,104     2802.0\n",
              "EARTH       5.9700   12,756       24.0\n",
              "MOON        0.0730     3475      708.7\n",
              "MARS        0.6420     6792       24.7\n",
              "JUPITER  1898.0000  142,984        9.9\n",
              "SATURN    568.0000  120,536       10.7\n",
              "URANUS     86.8000   51,118       17.2\n",
              "NEPTUNE   102.0000   49,528       16.1\n",
              "PLUTO       0.0146     2370      153.3"
            ]
          },
          "metadata": {
            "tags": []
          },
          "execution_count": 27
        }
      ]
    },
    {
      "cell_type": "code",
      "metadata": {
        "colab": {
          "base_uri": "https://localhost:8080/",
          "height": 257
        },
        "id": "yNJoPu_hKbiG",
        "outputId": "51159d93-78a4-4a3e-c002-a25c74b4b1cc"
      },
      "source": [
        "planets_clean.loc[\"MERCURY\":\"JUPITER\"]"
      ],
      "execution_count": 31,
      "outputs": [
        {
          "output_type": "execute_result",
          "data": {
            "text/html": [
              "<div>\n",
              "<style scoped>\n",
              "    .dataframe tbody tr th:only-of-type {\n",
              "        vertical-align: middle;\n",
              "    }\n",
              "\n",
              "    .dataframe tbody tr th {\n",
              "        vertical-align: top;\n",
              "    }\n",
              "\n",
              "    .dataframe thead th {\n",
              "        text-align: right;\n",
              "    }\n",
              "</style>\n",
              "<table border=\"1\" class=\"dataframe\">\n",
              "  <thead>\n",
              "    <tr style=\"text-align: right;\">\n",
              "      <th></th>\n",
              "      <th>Mass</th>\n",
              "      <th>Diameter</th>\n",
              "      <th>DayLength</th>\n",
              "    </tr>\n",
              "    <tr>\n",
              "      <th>Planet</th>\n",
              "      <th></th>\n",
              "      <th></th>\n",
              "      <th></th>\n",
              "    </tr>\n",
              "  </thead>\n",
              "  <tbody>\n",
              "    <tr>\n",
              "      <th>MERCURY</th>\n",
              "      <td>0.330</td>\n",
              "      <td>4879</td>\n",
              "      <td>4222.6</td>\n",
              "    </tr>\n",
              "    <tr>\n",
              "      <th>VENUS</th>\n",
              "      <td>4.870</td>\n",
              "      <td>12,104</td>\n",
              "      <td>2802.0</td>\n",
              "    </tr>\n",
              "    <tr>\n",
              "      <th>EARTH</th>\n",
              "      <td>5.970</td>\n",
              "      <td>12,756</td>\n",
              "      <td>24.0</td>\n",
              "    </tr>\n",
              "    <tr>\n",
              "      <th>MOON</th>\n",
              "      <td>0.073</td>\n",
              "      <td>3475</td>\n",
              "      <td>708.7</td>\n",
              "    </tr>\n",
              "    <tr>\n",
              "      <th>MARS</th>\n",
              "      <td>0.642</td>\n",
              "      <td>6792</td>\n",
              "      <td>24.7</td>\n",
              "    </tr>\n",
              "    <tr>\n",
              "      <th>JUPITER</th>\n",
              "      <td>1898.000</td>\n",
              "      <td>142,984</td>\n",
              "      <td>9.9</td>\n",
              "    </tr>\n",
              "  </tbody>\n",
              "</table>\n",
              "</div>"
            ],
            "text/plain": [
              "             Mass Diameter  DayLength\n",
              "Planet                               \n",
              "MERCURY     0.330     4879     4222.6\n",
              "VENUS       4.870   12,104     2802.0\n",
              "EARTH       5.970   12,756       24.0\n",
              "MOON        0.073     3475      708.7\n",
              "MARS        0.642     6792       24.7\n",
              "JUPITER  1898.000  142,984        9.9"
            ]
          },
          "metadata": {
            "tags": []
          },
          "execution_count": 31
        }
      ]
    },
    {
      "cell_type": "code",
      "metadata": {
        "colab": {
          "base_uri": "https://localhost:8080/"
        },
        "id": "86oMAhjZK3p-",
        "outputId": "7cf1166d-7a7f-4ea1-ff45-371f93a0d5c0"
      },
      "source": [
        "planets_clean.columns"
      ],
      "execution_count": 30,
      "outputs": [
        {
          "output_type": "execute_result",
          "data": {
            "text/plain": [
              "Index(['Mass', 'Diameter', 'DayLength'], dtype='object')"
            ]
          },
          "metadata": {
            "tags": []
          },
          "execution_count": 30
        }
      ]
    },
    {
      "cell_type": "code",
      "metadata": {
        "colab": {
          "base_uri": "https://localhost:8080/",
          "height": 292
        },
        "id": "fhx6b17LMh1g",
        "outputId": "2120b0af-5d8e-4903-a434-bd6fb9604b55"
      },
      "source": [
        ""
      ],
      "execution_count": 32,
      "outputs": [
        {
          "output_type": "error",
          "ename": "AttributeError",
          "evalue": "ignored",
          "traceback": [
            "\u001b[0;31m---------------------------------------------------------------------------\u001b[0m",
            "\u001b[0;31mAttributeError\u001b[0m                            Traceback (most recent call last)",
            "\u001b[0;32m<ipython-input-32-2135d8618ad7>\u001b[0m in \u001b[0;36m<module>\u001b[0;34m()\u001b[0m\n\u001b[0;32m----> 1\u001b[0;31m \u001b[0mplanets_clean\u001b[0m\u001b[0;34m.\u001b[0m\u001b[0mFirstVisited\u001b[0m\u001b[0;34m[\u001b[0m\u001b[0;34m'MERCURY'\u001b[0m\u001b[0;34m]\u001b[0m\u001b[0;34m\u001b[0m\u001b[0;34m\u001b[0m\u001b[0m\n\u001b[0m",
            "\u001b[0;32m/usr/local/lib/python3.6/dist-packages/pandas/core/generic.py\u001b[0m in \u001b[0;36m__getattr__\u001b[0;34m(self, name)\u001b[0m\n\u001b[1;32m   5137\u001b[0m             \u001b[0;32mif\u001b[0m \u001b[0mself\u001b[0m\u001b[0;34m.\u001b[0m\u001b[0m_info_axis\u001b[0m\u001b[0;34m.\u001b[0m\u001b[0m_can_hold_identifiers_and_holds_name\u001b[0m\u001b[0;34m(\u001b[0m\u001b[0mname\u001b[0m\u001b[0;34m)\u001b[0m\u001b[0;34m:\u001b[0m\u001b[0;34m\u001b[0m\u001b[0;34m\u001b[0m\u001b[0m\n\u001b[1;32m   5138\u001b[0m                 \u001b[0;32mreturn\u001b[0m \u001b[0mself\u001b[0m\u001b[0;34m[\u001b[0m\u001b[0mname\u001b[0m\u001b[0;34m]\u001b[0m\u001b[0;34m\u001b[0m\u001b[0;34m\u001b[0m\u001b[0m\n\u001b[0;32m-> 5139\u001b[0;31m             \u001b[0;32mreturn\u001b[0m \u001b[0mobject\u001b[0m\u001b[0;34m.\u001b[0m\u001b[0m__getattribute__\u001b[0m\u001b[0;34m(\u001b[0m\u001b[0mself\u001b[0m\u001b[0;34m,\u001b[0m \u001b[0mname\u001b[0m\u001b[0;34m)\u001b[0m\u001b[0;34m\u001b[0m\u001b[0;34m\u001b[0m\u001b[0m\n\u001b[0m\u001b[1;32m   5140\u001b[0m \u001b[0;34m\u001b[0m\u001b[0m\n\u001b[1;32m   5141\u001b[0m     \u001b[0;32mdef\u001b[0m \u001b[0m__setattr__\u001b[0m\u001b[0;34m(\u001b[0m\u001b[0mself\u001b[0m\u001b[0;34m,\u001b[0m \u001b[0mname\u001b[0m\u001b[0;34m:\u001b[0m \u001b[0mstr\u001b[0m\u001b[0;34m,\u001b[0m \u001b[0mvalue\u001b[0m\u001b[0;34m)\u001b[0m \u001b[0;34m->\u001b[0m \u001b[0;32mNone\u001b[0m\u001b[0;34m:\u001b[0m\u001b[0;34m\u001b[0m\u001b[0;34m\u001b[0m\u001b[0m\n",
            "\u001b[0;31mAttributeError\u001b[0m: 'DataFrame' object has no attribute 'FirstVisited'"
          ]
        }
      ]
    },
    {
      "cell_type": "code",
      "metadata": {
        "colab": {
          "base_uri": "https://localhost:8080/",
          "height": 35
        },
        "id": "PDc00yRQNFxv",
        "outputId": "23974e80-2b2c-4bf7-fdb3-9fa8e55e7a0b"
      },
      "source": [
        "df_planets.loc[0].FirstVisited"
      ],
      "execution_count": 34,
      "outputs": [
        {
          "output_type": "execute_result",
          "data": {
            "application/vnd.google.colaboratory.intrinsic+json": {
              "type": "string"
            },
            "text/plain": [
              "'1974-03-29'"
            ]
          },
          "metadata": {
            "tags": []
          },
          "execution_count": 34
        }
      ]
    },
    {
      "cell_type": "code",
      "metadata": {
        "id": "__fTvDoGNVGm"
      },
      "source": [
        ""
      ],
      "execution_count": null,
      "outputs": []
    }
  ]
}